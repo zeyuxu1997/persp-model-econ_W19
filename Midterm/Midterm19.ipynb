{
 "cells": [
  {
   "cell_type": "markdown",
   "metadata": {},
   "source": [
    "# Midterm (MACS 30150), February 11, 2019 [20 points total]\n",
    "### Solutions\n",
    "### Zeyu Xu\n",
    "You will have an hour and fifty minutes to take this exam.\n",
    "1. Put your name in the space provided above (without the brackets).\n",
    "2. Download this notebook and accompanying data `MidtermScores.csv`.\n",
    "3. The class will disconnect their wi-fi and begin taking the exam.\n",
    "4. The exam is open computer, closed internet, open note.\n",
    "5. Once you are done, you will signal to a TA or instructor to come over and monitor while you reconnect to the internet and upload your edited notebook to Canvas.\n",
    "\n",
    "Remember that you must clearly indicate your answers to all questions below. We will give partial credit for partially correct answers. The midterm is worth 20 points (2 problem sets)."
   ]
  },
  {
   "cell_type": "markdown",
   "metadata": {},
   "source": [
    "# 1. Symbolic and Numerical Derivatives [10 points total]\n",
    "This exercise will use the following function. In a household savings problem, the marginal utility of consumption is an important function. If a household has a constant relative risk aversion utility function, the marginal utility functional form can be the following:\n",
    "\\begin{equation}\n",
    "  MU(c_t) \\equiv \\bigl(c_t\\bigr)^{-\\sigma}\n",
    "\\end{equation}\n",
    "where $c_t>0$ is current period consumption and $\\sigma\\geq 1$ is the coefficient of constant relative risk aversion.\n",
    "\n",
    "Assume the budget constraint every period is $c_t + b_{t+1} = (1+r_t)b_t + w_t$, where $b_t$ is the initial wealth in period $t$, $b_{t+1}$ is the savings chosen in period $t$ that comes back to the household in period $t+1$ with interest, and $w_t$ is the wage paid on the unit of inelastically supplied labor. Then we can rewrite the marginal utility of consumption above with the budget constraint substituted in.\n",
    "\\begin{equation}\n",
    "  MU = \\Bigl([1 + r_t]b_t + w_t - b_{t+1}\\Bigr)^{-\\sigma}\n",
    "\\end{equation}\n"
   ]
  },
  {
   "cell_type": "markdown",
   "metadata": {},
   "source": [
    "## 1a) Plot the MU(c) function for different consumption values [2 points]\n",
    "Assume that the coefficient of relative risk aversion is $\\sigma = 1.8$. Use Python to plot the marginal utility of consumption for 100 equally spaced consumption values between 0.7 and 5.0. Make sure your plot has an $x$-axis labeled \"consumption\" and a $y$-axis labeled \"marginal utility\"."
   ]
  },
  {
   "cell_type": "code",
   "execution_count": 1,
   "metadata": {},
   "outputs": [],
   "source": [
    "import numpy as np\n",
    "import matplotlib.pyplot as plt"
   ]
  },
  {
   "cell_type": "code",
   "execution_count": 2,
   "metadata": {},
   "outputs": [
    {
     "data": {
      "image/png": "[encoded data removed]",
      "text/plain": [
       "<matplotlib.figure.Figure at 0x26f19dfdfd0>"
      ]
     },
     "metadata": {},
     "output_type": "display_data"
    }
   ],
   "source": [
    "node = np.linspace(0.7,5.0,100)\n",
    "def MU(c,sigma):\n",
    "    return c**(-sigma)\n",
    "fig,ax = plt.subplots()\n",
    "ax.plot(node, MU(node,1.8))\n",
    "ax.set_xlabel('consumption')\n",
    "ax.set_ylabel(\"marginal utility\")\n",
    "ax.set_title('Marginal Utility of Consumption')\n",
    "ax.grid()\n",
    "plt.show()"
   ]
  },
  {
   "cell_type": "markdown",
   "metadata": {},
   "source": [
    "## 1b) Symbolic numerical derivative [2 points]\n",
    "Assume the version of the marginal utility above that has the budget constraint substituted in.\n",
    "\\begin{equation}\n",
    "  MU = \\Bigl([1 + r_t]b_t + w_t - b_{t+1}\\Bigr)^{-\\sigma}\n",
    "\\end{equation}\n",
    "Use Python's symbolic math package `sympy` to compute the analytical derivative of the marginal utility function with respect to beginning-of-period wealth $b_t$. This will involve you declaring each variable and parameter as a symbol, then specifying the $MU$ funtion to be differentiated. The solution should be a function of all the variables and parameters $(b_t, b_{t+1}, r_t, w_t, \\sigma)$. Leave the output in the form that `sympy` produces."
   ]
  },
  {
   "cell_type": "markdown",
   "metadata": {},
   "source": [
    "### Answer"
   ]
  },
  {
   "cell_type": "markdown",
   "metadata": {},
   "source": [
    "Let $b,b1,r,w,sigma$ represent $b_t, b_{t+1}, r_t, w_t, \\sigma$ respectively."
   ]
  },
  {
   "cell_type": "code",
   "execution_count": 3,
   "metadata": {},
   "outputs": [
    {
     "name": "stdout",
     "output_type": "stream",
     "text": [
      "-sigma*(r + 1)*(b*(r + 1) - b1 + w)**(-sigma)/(b*(r + 1) - b1 + w)\n"
     ]
    }
   ],
   "source": [
    "import sympy as sy\n",
    "b = sy.symbols(\"b\")\n",
    "b1 = sy.symbols(\"b1\")\n",
    "r = sy.symbols(\"r\")\n",
    "w = sy.symbols(\"w\")\n",
    "sigma = sy.symbols(\"sigma\")\n",
    "MU_sympy = ((1+r)*b+w-b1)**(-sigma)\n",
    "MU_prime = sy.diff(MU_sympy, b)\n",
    "print(MU_prime)"
   ]
  },
  {
   "cell_type": "markdown",
   "metadata": {},
   "source": [
    "The solution in the form of sympy produces is shown above."
   ]
  },
  {
   "cell_type": "markdown",
   "metadata": {},
   "source": [
    "The solution in the form of text is $$-\\frac{\\sigma (r_t + 1)[b_t(r_t + 1) - b_{t+1} + w_t]^{-\\sigma}}{[b_t(r_t + 1) - b_{t+1} + w_t]}$$"
   ]
  },
  {
   "cell_type": "markdown",
   "metadata": {},
   "source": [
    "## 1c) Write a function that produces the analytical derivative [3 points]\n",
    "Write a function that takes five inputs which are the values for the variables and parameters of the marginal utility $(b_t, b_{t+1}, r_t, w_t, \\sigma)$ and returns the analytical derivative of the marginal utility (scalar) with respect to beginning-of-period wealth $b_t$ associated with those values. Show your function definition in the cell below. Name your function `dMU_c`. Print out the value of the function for the following three combinations of variables and parameters.\n",
    "\n",
    "$$ \\frac{\\partial MU_1}{\\partial b_t}:\\quad b_t=1.0, \\:\\: b_{t+1}=0.8, \\:\\: r_t=0.04, \\:\\: w_t=1.2, \\:\\: \\sigma=2.2 $$\n",
    "\n",
    "$$ \\frac{\\partial MU_2}{\\partial b_t}:\\quad b_t=5.0, \\:\\: b_{t+1}=2.1, \\:\\: r_t=0.01, \\:\\: w_t=1.8, \\:\\: \\sigma=2.0 $$\n",
    "\n",
    "$$ \\frac{\\partial MU_3}{\\partial b_t}:\\quad b_t=3.3, \\:\\: b_{t+1}=3.4, \\:\\: r_t=0.03, \\:\\: w_t=1.0, \\:\\: \\sigma=1.8 $$"
   ]
  },
  {
   "cell_type": "code",
   "execution_count": 4,
   "metadata": {},
   "outputs": [
    {
     "name": "stdout",
     "output_type": "stream",
     "text": [
      "derivative of MU1 with respect to b_t is -0.7123542921746638\n",
      "derivative of MU2 with respect to b_t is -0.018848228604752878\n",
      "derivative of MU3 with respect to b_t is -1.8592010790841618\n"
     ]
    }
   ],
   "source": [
    "def dMU_c(B,B1,R,W,Sigma):\n",
    "    b = sy.symbols(\"b\")\n",
    "    b1 = sy.symbols(\"b1\")\n",
    "    r = sy.symbols(\"r\")\n",
    "    w = sy.symbols(\"w\")\n",
    "    sigma = sy.symbols(\"sigma\")\n",
    "    MU_sympy = ((1+r)*b+w-b1)**(-sigma)\n",
    "    MU_prime = sy.diff(MU_sympy, b)\n",
    "    f = sy.lambdify((b,b1,r,w,sigma), MU_prime)\n",
    "    return f(B,B1,R,W,Sigma)\n",
    "print('derivative of MU1 with respect to b_t is', dMU_c(1.0,0.8,0.04,1.2,2.2))\n",
    "print('derivative of MU2 with respect to b_t is', dMU_c(5.0,2.1,0.01,1.8,2.0))\n",
    "print('derivative of MU3 with respect to b_t is', dMU_c(3.3,3.4,0.03,1.0,1.8))"
   ]
  },
  {
   "cell_type": "markdown",
   "metadata": {},
   "source": [
    "## 1d) Compute the numerical derivative approximation [3 points]\n",
    "Use the centered second-order finite difference approximation of the derivative to calculate the numerical derivative of the marginal utility function.\n",
    "\n",
    "$$ f'(x_0)\\approx \\frac{f(x_0 + h) - f(x_0 - h)}{2h} $$\n",
    "\n",
    "Recall that our marginal utility function is a function of four variables and the parameter $\\sigma$.\n",
    "\\begin{equation}\n",
    "  MU = \\Bigl([1 + r_t]b_t + w_t - b_{t+1}\\Bigr)^{-\\sigma}\n",
    "\\end{equation}\n",
    "So we want to approximate the derivative of the marginal utility with respect to beginning-of-period wealth $\\partial MU(c)/\\partial b_t$ by using the centered second-order finite difference approximation above. A helpful hint on how to do this is the marginal utility function is like $f(x)$ and the derivative is the centered second-order approximation equation.\n",
    "\n",
    "Define a function named `dMU_c_approx` that takes as inputs the five variables and parameters $(b_t, b_{t+1}, r_t, w_t, \\sigma)$ as well as a finite difference amount $h$. Have this function return the centered second-order approximation of the derivative of the marginal utility function with respect to beginning-of-period wealth.\n",
    "\n",
    "Using your `dMU_c` function from part (c), print the analytical derivative of the marginal utility function with respect to beginning-of-period wealth with the following parameterization.\n",
    "\n",
    "$$ \\frac{\\partial MU}{\\partial b_t}:\\quad b_t=1.0, \\:\\: b_{t+1}=0.8, \\:\\: r_t=0.04, \\:\\: w_t=1.2, \\:\\: \\sigma=2.2 $$\n",
    "\n",
    "Use your `dMU_c_approx` function to print out the numerical approximation of the derivative for the specification above with the following three finite difference amounts: $h_1 = 0.1$, $h_2= 0.001$ and  $h_3=0.00001$."
   ]
  },
  {
   "cell_type": "code",
   "execution_count": 5,
   "metadata": {},
   "outputs": [
    {
     "name": "stdout",
     "output_type": "stream",
     "text": [
      "derivative of MU with respect to bt using dMU_c is -0.7123542921746638\n",
      "derivative of MU with respect to bt using dMU_c_approx with h = 0.1 is -0.720747904181559\n",
      "derivative of MU with respect to bt using dMU_c_approx with h = 0.001 is -0.7123551244865578\n",
      "derivative of MU with respect to bt using dMU_c_approx with h = 1e-05 is -0.7123542922538028\n"
     ]
    }
   ],
   "source": [
    "def dMU_c_approx(B,B1,R,W,Sigma,h):\n",
    "    b = sy.symbols(\"b\")\n",
    "    b1 = sy.symbols(\"b1\")\n",
    "    r = sy.symbols(\"r\")\n",
    "    w = sy.symbols(\"w\")\n",
    "    sigma = sy.symbols(\"sigma\")\n",
    "    MU_sympy = ((1+r)*b+w-b1)**(-sigma)\n",
    "    f = sy.lambdify((b,b1,r,w,sigma), MU_sympy)\n",
    "    return (f(B+h,B1,R,W,Sigma)-f(B-h,B1,R,W,Sigma))/(2*h)\n",
    "print('derivative of MU with respect to bt using dMU_c is', dMU_c(1.0,0.8,0.04,1.2,2.2))\n",
    "for h in [0.1,0.001,0.00001]:\n",
    "    print('derivative of MU with respect to bt using dMU_c_approx with h =', h,'is', dMU_c_approx(1.0,0.8,0.04,1.2,2.2,h))"
   ]
  },
  {
   "cell_type": "markdown",
   "metadata": {},
   "source": [
    "# 2. Maximum likelihood estimation [10 points total]\n",
    "This exercise will make use of the `MidtermScores.csv` dataset, which contains 97 observations of students' midterm scores $scores_i$ as well as the number of hours they studied for the midterm $hours_i$ and whether the midterm was within a week of Chinese New Year $ch\\_ny_i$.\n",
    "\n",
    "* `scores`: score of $i$th student on midterm\n",
    "* `hours`: number of hours that $i$th student studied for the midterm\n",
    "* `ch_ny`: =1 if the midterm was within a week of Chinese New Year, =0 otherwise\n",
    "\n",
    "You can load these data into Python as a numpy array using the `np.loadtxt()` command."
   ]
  },
  {
   "cell_type": "code",
   "execution_count": 6,
   "metadata": {},
   "outputs": [
    {
     "name": "stdout",
     "output_type": "stream",
     "text": [
      "Shape of the data= (97, 3)\n"
     ]
    }
   ],
   "source": [
    "import numpy as np\n",
    "\n",
    "data = np.loadtxt('MidtermScores.csv', delimiter=',', skiprows=1)\n",
    "print('Shape of the data=', data.shape)\n",
    "scores = data[:, 0]\n",
    "hours = data[:, 1]\n",
    "ch_ny = data[:, 2]"
   ]
  },
  {
   "cell_type": "markdown",
   "metadata": {},
   "source": [
    "Assume that our model of student midterm scores is the following linear model.\n",
    "\n",
    "$$ scores_i = \\beta_0 + \\beta_1 hours_i + \\beta_2 ch\\_ny_i + \\varepsilon_i \\quad\\text{where}\\quad \\varepsilon_i\\sim N(0,\\sigma) $$\n",
    "\n",
    "where the error $\\varepsilon_i$ are normally distributed with mean 0 and standard deviation $\\sigma$."
   ]
  },
  {
   "cell_type": "markdown",
   "metadata": {},
   "source": [
    "## 2a) Log likelihood function [3 points]\n",
    "Define a function named `log_lik` that takes as inputs three data vectors $scores_i$, $hours_i$, $ch\\_ny_i$, three coefficient parameters $\\beta_0$, $\\beta_1$, $\\beta_2$, and the standard deviation $\\sigma$ of the normally distributed errors and returns the log likelihood (a scalar). Print the log likelihood value for the first 10 data observations given all the coefficients are equal to one $\\beta_0, \\beta_1, \\beta_2=1.0$ and the standard deviation of the errors is equal to $\\sigma=0.5$. For the answer to this question, I want to see a function and one scalar log-likelihood value."
   ]
  },
  {
   "cell_type": "code",
   "execution_count": 7,
   "metadata": {},
   "outputs": [
    {
     "name": "stdout",
     "output_type": "stream",
     "text": [
      "The log likelihood values for the first 10 data are -186.89904045225225\n"
     ]
    }
   ],
   "source": [
    "import scipy.stats as sts\n",
    "def log_lik(scores, hours, ch_ny, beta0, beta1, beta2, sigma):\n",
    "    x = scores - (beta0 + beta1*hours + beta2*ch_ny)\n",
    "    pdf_vals = sts.norm.pdf(x, loc = 0, scale = abs(sigma))\n",
    "    polishedpdf = pdf_vals\n",
    "    ln_pdf_vals = np.log(polishedpdf)\n",
    "    log_lik_val = ln_pdf_vals.sum()\n",
    "    return log_lik_val\n",
    "print(\"The log likelihood values for the first 10 data are\", log_lik(scores[:10], hours[:10], ch_ny[:10], 1, 1, 1, 0.5))"
   ]
  },
  {
   "cell_type": "markdown",
   "metadata": {},
   "source": [
    "## 2b) Estimate the parameters by MLE [7 points]\n",
    "Estimate the four parameters $\\beta_0, \\beta_1, \\beta_2, \\sigma$ to maximize the log likelihood from part (a). Remember that a minimizer will have to minimize the negative of the log likelihood. Use all 97 observations for this estimation. Use an initial guess of $\\beta_0=10.0$, $\\beta_1=1.0$, $\\beta_2=1.0$, and $\\sigma=$ the standard deviation of the $scores_i$ variable. Report your estimated coefficients $\\beta_0, \\beta_1, \\beta_2$ and standard deviation $\\sigma$. What is the predicted effect on a midterm score of a student who takes the test around Chineses New Year $ch\\_ny_i=1$ versus the score of a student who does not take the test around Chinese New year $ch\\_ny_i=0$, other things being equal?"
   ]
  },
  {
   "cell_type": "code",
   "execution_count": 8,
   "metadata": {},
   "outputs": [
    {
     "name": "stdout",
     "output_type": "stream",
     "text": [
      "Estimated values are:\n",
      " beta0 = 4.750440145355182 \n",
      " beta1 = 0.7157363131126405 \n",
      " beta2 = -1.8909272041814638 \n",
      " sigma = 0.6527540030899339\n",
      "Other things being equal, the predicted effect of variable ch_ny on midterm score is -1.8909272041814638\n"
     ]
    }
   ],
   "source": [
    "import scipy.optimize as opt\n",
    "def crit(params, *args):\n",
    "    beta0, beta1, beta2, sigma = params\n",
    "    scores, hours, ch_ny = args\n",
    "    log_lik_val = log_lik(scores, hours, ch_ny, beta0, beta1, beta2, abs(sigma))\n",
    "    neg_log_lik_val = -log_lik_val    \n",
    "    return neg_log_lik_val\n",
    "params_init = np.array([10.0, 1.0, 1.0, scores.std()])\n",
    "mle_args = (scores, hours, ch_ny)\n",
    "results = opt.minimize(crit, params_init, args = mle_args, tol=1e-14, method='L-BFGS-B')\n",
    "beta0_MLE, beta1_MLE, beta2_MLE, sigma_MLE = results.x\n",
    "print(\"Estimated values are:\\n\", \"beta0 =\", beta0_MLE,'\\n', \"beta1 =\", beta1_MLE,'\\n', \"beta2 =\", beta2_MLE,'\\n', \"sigma =\",sigma_MLE)\n",
    "print(\"Other things being equal, the predicted effect of variable ch_ny on midterm score is\", beta2_MLE)"
   ]
  },
  {
   "cell_type": "markdown",
   "metadata": {},
   "source": [
    "My estimated coefficients and standard deviation are: \n",
    "$$\\beta_0 = 4.750440145355182$$\n",
    "$$\\beta_1 = 0.7157363131126405$$\n",
    "$$\\beta_2 = -1.8909272041814638$$\n",
    "$$\\sigma = 0.6527540030899339$$\n",
    "Other things being equal, the predicted effect on a midterm score of a student who takes the test around Chineses New Year $ch\\_ny_i=1$ versus the score of a student who does not take the test around Chinese New year $ch\\_ny_i=0$ is $-1.8909272041814638$"
   ]
  }
 ],
 "metadata": {
  "kernelspec": {
   "display_name": "Python 3",
   "language": "python",
   "name": "python3"
  },
  "language_info": {
   "codemirror_mode": {
    "name": "ipython",
    "version": 3
   },
   "file_extension": ".py",
   "mimetype": "text/x-python",
   "name": "python",
   "nbconvert_exporter": "python",
   "pygments_lexer": "ipython3",
   "version": "3.6.4"
  }
 },
 "nbformat": 4,
 "nbformat_minor": 2
}
