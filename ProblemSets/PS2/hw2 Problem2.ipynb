{
 "cells": [
  {
   "cell_type": "markdown",
   "metadata": {},
   "source": [
    "### Import Packages"
   ]
  },
  {
   "cell_type": "code",
   "execution_count": 1,
   "metadata": {},
   "outputs": [],
   "source": [
    "import numpy as np\n",
    "import scipy as sp\n",
    "from scipy.stats import norm\n",
    "from scipy.integrate import quad"
   ]
  },
  {
   "cell_type": "markdown",
   "metadata": {},
   "source": [
    "### 14.1"
   ]
  },
  {
   "cell_type": "code",
   "execution_count": 2,
   "metadata": {},
   "outputs": [
    {
     "data": {
      "text/plain": [
       "4373.333196466632"
      ]
     },
     "execution_count": 2,
     "metadata": {},
     "output_type": "execute_result"
    }
   ],
   "source": [
    "def integrate(g,a,b,N,method='midpoint'):\n",
    "    if method not in ['midpoint','trapezoid', 'Simpsons']:\n",
    "        raise ValueError\n",
    "    else:\n",
    "        if method == 'midpoint':\n",
    "            counter = 0\n",
    "            for i in range(N):\n",
    "                counter += g(a+(2*i+1)*(b-a)/(2*N))\n",
    "            return (b-a)*counter/N\n",
    "        if method == 'trapezoid':\n",
    "            counter = g(a)+g(b)\n",
    "            for i in range(1,N):\n",
    "                counter += 2*g(a+i*(b-a)/N)\n",
    "            return (b-a)*counter/(2*N)\n",
    "        if method == 'Simpsons':\n",
    "            counter = g(a)+g(b)+4*g(a+(2*N-1)*(b-a)/(2*N))\n",
    "            for i in range(1,N):\n",
    "                counter += 4*g(a+(2*i-1)*(b-a)/(2*N))\n",
    "                counter += 2*g(a+2*i*(b-a)/(2*N))\n",
    "            return (b-a)*counter/(2*N)\n",
    "integrate(lambda x: 0.1*x**4-1.5*x**3+0.53*x**2+2*x+1, -10, 10, 10000)"
   ]
  },
  {
   "cell_type": "markdown",
   "metadata": {},
   "source": [
    "### 14.2"
   ]
  },
  {
   "cell_type": "code",
   "execution_count": 3,
   "metadata": {},
   "outputs": [
    {
     "name": "stdout",
     "output_type": "stream",
     "text": [
      "Z = [-3.  -2.4 -1.8 -1.2 -0.6  0.   0.6  1.2  1.8  2.4  3. ]\n",
      "weight =  [0.00346697 0.01439745 0.04894278 0.11725292 0.19802845 0.23582284\n",
      " 0.19802845 0.11725292 0.04894278 0.01439745 0.00346697]\n"
     ]
    }
   ],
   "source": [
    "def N_C(N, mu=0, sigma=1, k=3):\n",
    "    Z = np.linspace(mu-k*sigma, mu+k*sigma, N)\n",
    "    weight = np.zeros(N)\n",
    "    weight[0] = norm.cdf((Z[0]+Z[1])/2, loc=mu, scale=sigma)\n",
    "    for i in range(1,N-1):\n",
    "        weight[i] = quad(lambda x:norm.pdf(x, loc=mu, scale=sigma),(Z[i-1]+Z[i])/2,(Z[i+1]+Z[i])/2)[0]\n",
    "    weight[N-1] = 1-norm.cdf((Z[N-2]+Z[N-1])/2, loc=mu, scale=sigma)\n",
    "    return Z, weight\n",
    "Z, weight = N_C(11)\n",
    "print('Z =',Z)\n",
    "print('weight = ',weight)"
   ]
  },
  {
   "cell_type": "markdown",
   "metadata": {},
   "source": [
    "### 14.3"
   ]
  },
  {
   "cell_type": "code",
   "execution_count": 4,
   "metadata": {},
   "outputs": [
    {
     "name": "stdout",
     "output_type": "stream",
     "text": [
      "A = [ 0.04978707  0.09071795  0.16529889  0.30119421  0.54881164  1.\n",
      "  1.8221188   3.32011692  6.04964746 11.02317638 20.08553692]\n",
      "weight =  [0.00346697 0.01439745 0.04894278 0.11725292 0.19802845 0.23582284\n",
      " 0.19802845 0.11725292 0.04894278 0.01439745 0.00346697]\n"
     ]
    }
   ],
   "source": [
    "def new_N_C(N, mu=0, sigma=1, k=3):\n",
    "    Z = np.linspace(mu-k*sigma, mu+k*sigma, N)\n",
    "    A = np.e**Z\n",
    "    weight = np.zeros(N)\n",
    "    weight[0] = norm.cdf((Z[0]+Z[1])/2, loc=mu, scale=sigma)\n",
    "    for i in range(1,N-1):\n",
    "        weight[i] = quad(lambda x:norm.pdf(x, loc=mu, scale=sigma),(Z[i-1]+Z[i])/2,(Z[i+1]+Z[i])/2)[0]\n",
    "    weight[N-1] = 1-norm.cdf((Z[N-2]+Z[N-1])/2, loc=mu, scale=sigma)\n",
    "    return A, weight\n",
    "A, weight = new_N_C(11)\n",
    "print('A =',A)\n",
    "print('weight = ',weight)"
   ]
  },
  {
   "cell_type": "markdown",
   "metadata": {},
   "source": [
    "### 14.4"
   ]
  },
  {
   "cell_type": "code",
   "execution_count": 5,
   "metadata": {},
   "outputs": [
    {
     "name": "stdout",
     "output_type": "stream",
     "text": [
      "The difference between my result and the exact expectation is 0.5334533017885406\n"
     ]
    }
   ],
   "source": [
    "Myresult = new_N_C(1001, mu=10.5, sigma=0.8, k=10)[0]@new_N_C(1001, mu=10.5, sigma=0.8, k=10)[1].reshape(-1,1)\n",
    "Exactresult = np.e**(10.5+0.5*(0.8**2))\n",
    "print('The difference between my result and the exact expectation is', Myresult[0]-Exactresult)"
   ]
  },
  {
   "cell_type": "markdown",
   "metadata": {},
   "source": [
    "### 14.5"
   ]
  },
  {
   "cell_type": "code",
   "execution_count": 6,
   "metadata": {},
   "outputs": [
    {
     "name": "stdout",
     "output_type": "stream",
     "text": [
      "The result of Gaussian approximate is 4373.333333189601 and the absolute error is 1.4373199519468471e-07\n",
      "The result of Newton-Cotes approximate is 4373.333196466632 and the absolute error is 0.00013686670081369812\n"
     ]
    }
   ],
   "source": [
    "def Gaussian(g,a,b,N=3):\n",
    "    init_weight = [1/N for i in range(N)]\n",
    "    init_x = [a+i*(b-a)/(N-1) for i in range(N)]\n",
    "    init = init_weight+init_x\n",
    "    def func(x):\n",
    "        result = []\n",
    "        for i in range(2*N):\n",
    "            weight = x[:N]\n",
    "            node = x[N:]\n",
    "            result.append((b**(i+1)-a**(i+1))/(i+1)-sum(weight[k]*(node[k]**i) for k in range(N)))\n",
    "        return tuple(k for k in result)\n",
    "    Vector = list(k for k in sp.optimize.root(func, init)['x'])\n",
    "    weight = Vector[:N]\n",
    "    node = Vector[N:]\n",
    "    counter = 0\n",
    "    for i in range(N):\n",
    "        counter += weight[i]*g(node[i])\n",
    "    return counter\n",
    "Gauss = Gaussian(lambda x: 0.1*x**4-1.5*x**3+0.53*x**2+2*x+1, -10, 10)\n",
    "Newton = integrate(lambda x: 0.1*x**4-1.5*x**3+0.53*x**2+2*x+1, -10, 10, 10000)\n",
    "Exact = 0.02*(10**5-(-10)**5)+0.53/3*(10**3-(-10)**3)+20\n",
    "print(\"The result of Gaussian approximate is\", Gauss, 'and the absolute error is', abs(Gauss-Exact))\n",
    "print(\"The result of Newton-Cotes approximate is\", Newton, 'and the absolute error is', abs(Newton-Exact))"
   ]
  },
  {
   "cell_type": "markdown",
   "metadata": {},
   "source": [
    "### 14.6"
   ]
  },
  {
   "cell_type": "code",
   "execution_count": 7,
   "metadata": {
    "scrolled": true
   },
   "outputs": [
    {
     "name": "stdout",
     "output_type": "stream",
     "text": [
      "The result of Python Gaussian approximate is 4373.333333333334 and the absolute error is 9.094947017729282e-13\n"
     ]
    }
   ],
   "source": [
    "Quad = quad(lambda x: 0.1*x**4-1.5*x**3+0.53*x**2+2*x+1, -10, 10)[0]\n",
    "print(\"The result of Python Gaussian approximate is\", Quad, 'and the absolute error is', abs(Quad-Exact))"
   ]
  },
  {
   "cell_type": "markdown",
   "metadata": {},
   "source": [
    "### 14.7"
   ]
  },
  {
   "cell_type": "code",
   "execution_count": 8,
   "metadata": {},
   "outputs": [
    {
     "name": "stdout",
     "output_type": "stream",
     "text": [
      "The smallest number of random draws N that matches the true value of pi to the 4th decimal 3.1415 is 1463\n"
     ]
    }
   ],
   "source": [
    "def M_C(N, func=None, omega=[-1,1,-1,1]):\n",
    "    counter = 0\n",
    "    x_1 = np.random.uniform(omega[0],omega[1],size=N)\n",
    "    x_2 = np.random.uniform(omega[2],omega[3],size=N)\n",
    "    def g(X):\n",
    "        x,y = X[0], X[1]\n",
    "        if x**2+y**2<=1:\n",
    "            return 1\n",
    "        else:\n",
    "            return 0\n",
    "    for i in range(N):\n",
    "        X = (x_1[i],x_2[i])\n",
    "        if func is None:\n",
    "            counter += g(X)\n",
    "        else:\n",
    "            counter += func(X)\n",
    "    return 4*counter/N\n",
    "judge = False\n",
    "min_N = 0\n",
    "while judge is False:\n",
    "    min_N += 1\n",
    "    judge = (round(M_C(min_N),4)==3.1415)\n",
    "print(\"The smallest number of random draws N that matches the true value of pi to the 4th decimal 3.1415 is\", min_N)"
   ]
  },
  {
   "cell_type": "markdown",
   "metadata": {},
   "source": [
    "### 14.8"
   ]
  },
  {
   "cell_type": "code",
   "execution_count": 9,
   "metadata": {},
   "outputs": [],
   "source": [
    "def equidistribution(n,d,Type='weyl'):\n",
    "    def prime_list(d):\n",
    "        if d == 1:\n",
    "            return [2]\n",
    "        List = [2,3]\n",
    "        i = 3\n",
    "        while len(List)<d:\n",
    "            i+=1\n",
    "            for k in range(2, np.sqrt(i)//1):\n",
    "                if i%k == 0:\n",
    "                    break\n",
    "            else:\n",
    "                List.append(i)\n",
    "        return List\n",
    "    def rational_list(d):\n",
    "        return [1/(i+1) for i in range(d)]\n",
    "    def cut(x):\n",
    "        return x-x//1\n",
    "    if Type == 'weyl':\n",
    "        return tuple(cut(n*np.sqrt(prime_list(d)[i])) for i in range(d))\n",
    "    elif Type == 'haber':\n",
    "        return tuple(cut(n*(n+1)*0.5*np.sqrt(prime_list(d)[i])) for i in range(d))\n",
    "    elif Type == 'nie':\n",
    "        return tuple(cut(n*(2**(i/(n+1)))) for i in range(d))\n",
    "    elif Type == 'baker':\n",
    "        return tuple(cut(n*(np.e**(rational_list(d)[i]))) for i in range(d))"
   ]
  },
  {
   "cell_type": "markdown",
   "metadata": {},
   "source": [
    "### 14.9"
   ]
  },
  {
   "cell_type": "code",
   "execution_count": 10,
   "metadata": {},
   "outputs": [
    {
     "name": "stdout",
     "output_type": "stream",
     "text": [
      "The smallest number of random draws N for former method that matches the true value of pi to the 4th decimal 3.1415 is 1435\n",
      "The smallest number of random draws N for new method that matches the true value of pi to the 4th decimal 3.1415 is 1230\n"
     ]
    }
   ],
   "source": [
    "def quasi_M_C(N, func=None, omega=[-1,1,-1,1]):\n",
    "    counter = 0\n",
    "    x = []\n",
    "    for k in range(N):\n",
    "        x.append((2*equidistribution(k,2)[0]-1,2*equidistribution(k,2)[1]-1))\n",
    "    def g(X):\n",
    "        x,y = X[0], X[1]\n",
    "        if x**2+y**2<=1:\n",
    "            return 1\n",
    "        else:\n",
    "            return 0\n",
    "    for i in range(N):\n",
    "        X = x[i]\n",
    "        if func is None:\n",
    "            counter += g(X)\n",
    "        else:\n",
    "            counter += func(X)\n",
    "    return 4*counter/N\n",
    "judge = False\n",
    "min_N1 = 0\n",
    "while judge is False:\n",
    "    min_N1 += 1\n",
    "    judge = (round(M_C(min_N1),4)==3.1415)\n",
    "print(\"The smallest number of random draws N for former method that matches the true value of pi to the 4th decimal 3.1415 is\", min_N1)\n",
    "judge = False\n",
    "min_N2 = 0\n",
    "while judge is False:\n",
    "    min_N2 += 1\n",
    "    judge = (round(quasi_M_C(min_N2),4)==3.1415)\n",
    "print(\"The smallest number of random draws N for new method that matches the true value of pi to the 4th decimal 3.1415 is\", min_N2)"
   ]
  }
 ],
 "metadata": {
  "kernelspec": {
   "display_name": "Python 3",
   "language": "python",
   "name": "python3"
  },
  "language_info": {
   "codemirror_mode": {
    "name": "ipython",
    "version": 3
   },
   "file_extension": ".py",
   "mimetype": "text/x-python",
   "name": "python",
   "nbconvert_exporter": "python",
   "pygments_lexer": "ipython3",
   "version": "3.6.4"
  }
 },
 "nbformat": 4,
 "nbformat_minor": 2
}
