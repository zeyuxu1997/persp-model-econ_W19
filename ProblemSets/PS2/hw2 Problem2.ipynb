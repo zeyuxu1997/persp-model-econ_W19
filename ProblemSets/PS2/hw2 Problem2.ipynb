{
 "cells": [
  {
   "cell_type": "markdown",
   "metadata": {},
   "source": [
    "### Import Packages"
   ]
  },
  {
   "cell_type": "code",
   "execution_count": 1,
   "metadata": {},
   "outputs": [],
   "source": [
    "import numpy as np\n",
    "import scipy as sp\n",
    "from scipy.stats import norm\n",
    "from scipy.integrate import quad"
   ]
  },
  {
   "cell_type": "markdown",
   "metadata": {},
   "source": [
    "### 2.1"
   ]
  },
  {
   "cell_type": "code",
   "execution_count": 2,
   "metadata": {},
   "outputs": [
    {
     "name": "stdout",
     "output_type": "stream",
     "text": [
      "midpoint method value: 4373.333331964723\n",
      "Difference between midpoint method and true value 1.3686103557120077e-06\n",
      "trapezoid method value: 4373.333336070682\n",
      "Difference between trapezoid method and true value 2.7373489501769654e-06\n",
      "Simpsons method value: 4373.333333333185\n",
      "Difference between Simpsons method and true value 1.482476363889873e-10\n"
     ]
    }
   ],
   "source": [
    "def integrate(g,a,b,N,method='midpoint'):\n",
    "    if method not in ['midpoint','trapezoid', 'Simpsons']:\n",
    "        raise ValueError\n",
    "    else:\n",
    "        if method == 'midpoint':\n",
    "            counter = 0\n",
    "            for i in range(N):\n",
    "                counter += g(a+(2*i+1)*(b-a)/(2*N))\n",
    "            return (b-a)*counter/N\n",
    "        if method == 'trapezoid':\n",
    "            counter = g(a)+g(b)\n",
    "            for i in range(1,N):\n",
    "                counter += 2*g(a+i*(b-a)/N)\n",
    "            return (b-a)*counter/(2*N)\n",
    "        if method == 'Simpsons':\n",
    "            counter = g(a)+g(b)+4*g(a+(2*N-1)*(b-a)/(2*N))\n",
    "            for i in range(1,N):\n",
    "                counter += 4*g(a+(2*i-1)*(b-a)/(2*N))\n",
    "                counter += 2*g(a+2*i*(b-a)/(2*N))\n",
    "            return (b-a)*counter/(6*N)\n",
    "test_func = lambda x: 0.1*x**4-1.5*x**3+0.53*x**2+2*x+1\n",
    "exact = 0.02*(10**5-(-10)**5)+0.53/3*(10**3-(-10)**3)+20\n",
    "for method in ['midpoint','trapezoid', 'Simpsons']:\n",
    "    integr = integrate(test_func, -10, 10, 100000, method)\n",
    "    print(method,'method value:',integr)\n",
    "    print(\"Difference between\",method,'method and true value',abs(integr-exact))"
   ]
  },
  {
   "cell_type": "markdown",
   "metadata": {},
   "source": [
    "### 2.2"
   ]
  },
  {
   "cell_type": "code",
   "execution_count": 3,
   "metadata": {},
   "outputs": [
    {
     "name": "stdout",
     "output_type": "stream",
     "text": [
      "Z = [-3.  -2.4 -1.8 -1.2 -0.6  0.   0.6  1.2  1.8  2.4  3. ]\n",
      "weight =  [0.00346697 0.01439745 0.04894278 0.11725292 0.19802845 0.23582284\n",
      " 0.19802845 0.11725292 0.04894278 0.01439745 0.00346697]\n"
     ]
    }
   ],
   "source": [
    "def N_C(N, mu=0, sigma=1, k=3):\n",
    "    Z = np.linspace(mu-k*sigma, mu+k*sigma, N)\n",
    "    weight = np.zeros(N)\n",
    "    weight[0] = norm.cdf((Z[0]+Z[1])/2, loc=mu, scale=sigma)\n",
    "    for i in range(1,N-1):\n",
    "        func = lambda x:norm.pdf(x, loc=mu, scale=sigma)\n",
    "        weight[i] = quad(func,(Z[i-1]+Z[i])/2,(Z[i+1]+Z[i])/2)[0]\n",
    "    weight[N-1] = 1-norm.cdf((Z[N-2]+Z[N-1])/2, loc=mu, scale=sigma)\n",
    "    return Z, weight\n",
    "Z, weight = N_C(11)\n",
    "print('Z =',Z)\n",
    "print('weight = ',weight)"
   ]
  },
  {
   "cell_type": "markdown",
   "metadata": {},
   "source": [
    "### 2.3"
   ]
  },
  {
   "cell_type": "code",
   "execution_count": 4,
   "metadata": {},
   "outputs": [
    {
     "name": "stdout",
     "output_type": "stream",
     "text": [
      "A = [ 0.04978707  0.09071795  0.16529889  0.30119421  0.54881164  1.\n",
      "  1.8221188   3.32011692  6.04964746 11.02317638 20.08553692]\n",
      "weight =  [0.00346697 0.01439745 0.04894278 0.11725292 0.19802845 0.23582284\n",
      " 0.19802845 0.11725292 0.04894278 0.01439745 0.00346697]\n"
     ]
    }
   ],
   "source": [
    "def new_N_C(N, mu=0, sigma=1, k=3):\n",
    "    Z = np.linspace(mu-k*sigma, mu+k*sigma, N)\n",
    "    A = np.e**Z\n",
    "    weight = np.zeros(N)\n",
    "    weight[0] = norm.cdf((Z[0]+Z[1])/2, loc=mu, scale=sigma)\n",
    "    for i in range(1,N-1):\n",
    "        func = lambda x:norm.pdf(x, loc=mu, scale=sigma)\n",
    "        weight[i] = quad(func,(Z[i-1]+Z[i])/2,(Z[i+1]+Z[i])/2)[0]\n",
    "    weight[N-1] = 1-norm.cdf((Z[N-2]+Z[N-1])/2, loc=mu, scale=sigma)\n",
    "    return A, weight\n",
    "A, weight = new_N_C(11)\n",
    "print('A =',A)\n",
    "print('weight = ',weight)"
   ]
  },
  {
   "cell_type": "markdown",
   "metadata": {},
   "source": [
    "### 2.4"
   ]
  },
  {
   "cell_type": "code",
   "execution_count": 5,
   "metadata": {},
   "outputs": [
    {
     "name": "stdout",
     "output_type": "stream",
     "text": [
      "The difference between my result and the exact expectation is:\n",
      "0.5334533017885406\n"
     ]
    }
   ],
   "source": [
    "A, weight = new_N_C(1001, mu=10.5, sigma=0.8, k=10)\n",
    "Myresult = A@weight.reshape(-1,1)\n",
    "Exactresult = np.e**(10.5+0.5*(0.8**2))\n",
    "print('The difference between my result and the exact expectation is:')\n",
    "print(Myresult[0]-Exactresult)"
   ]
  },
  {
   "cell_type": "markdown",
   "metadata": {},
   "source": [
    "### 3.1"
   ]
  },
  {
   "cell_type": "code",
   "execution_count": 6,
   "metadata": {},
   "outputs": [
    {
     "name": "stdout",
     "output_type": "stream",
     "text": [
      "The result of Gaussian approximate is 4373.333333189601\n",
      "The absolute error of Gaussian approximate is 1.4373199519468471e-07\n",
      "The result of Newton-Cotes approximate is 4373.33333333337\n",
      "The absolute error of Newton-Cotes approximate is 3.728928277269006e-11\n"
     ]
    }
   ],
   "source": [
    "def Gaussian(g,a,b,N=3):\n",
    "    init_weight = [1/N for i in range(N)]\n",
    "    init_x = [a+i*(b-a)/(N-1) for i in range(N)]\n",
    "    init = init_weight+init_x\n",
    "    def func(x):\n",
    "        result = []\n",
    "        for i in range(2*N):\n",
    "            weight = x[:N]\n",
    "            node = x[N:]\n",
    "            Sum = sum(weight[k]*(node[k]**i) for k in range(N))\n",
    "            result.append((b**(i+1)-a**(i+1))/(i+1)-Sum)\n",
    "        return tuple(k for k in result)\n",
    "    Vector = [k for k in sp.optimize.root(func, init)['x']]\n",
    "    weight = Vector[:N]\n",
    "    node = Vector[N:]\n",
    "    counter = 0\n",
    "    for i in range(N):\n",
    "        counter += weight[i]*g(node[i])\n",
    "    return counter\n",
    "test_func = lambda x: 0.1*x**4-1.5*x**3+0.53*x**2+2*x+1\n",
    "Gauss = Gaussian(test_func, -10, 10)\n",
    "Newton = integrate(test_func, -10, 10, 10000, \"Simpsons\")\n",
    "Exact = 0.02*(10**5-(-10)**5)+0.53/3*(10**3-(-10)**3)+20\n",
    "print(\"The result of Gaussian approximate is\", Gauss)\n",
    "print('The absolute error of Gaussian approximate is', abs(Gauss-Exact))\n",
    "print(\"The result of Newton-Cotes approximate is\", Newton)\n",
    "print('The absolute error of Newton-Cotes approximate is', abs(Newton-Exact))"
   ]
  },
  {
   "cell_type": "markdown",
   "metadata": {},
   "source": [
    "### 3.2"
   ]
  },
  {
   "cell_type": "code",
   "execution_count": 7,
   "metadata": {
    "scrolled": false
   },
   "outputs": [
    {
     "name": "stdout",
     "output_type": "stream",
     "text": [
      "The result of Python Gaussian approximate is 4373.333333333334\n",
      "The absolute error of Python Gaussian approximate is 9.094947017729282e-13\n"
     ]
    }
   ],
   "source": [
    "Quad = quad(lambda x: 0.1*x**4-1.5*x**3+0.53*x**2+2*x+1, -10, 10)[0]\n",
    "print(\"The result of Python Gaussian approximate is\", Quad)\n",
    "print('The absolute error of Python Gaussian approximate is', abs(Quad-Exact))"
   ]
  },
  {
   "cell_type": "markdown",
   "metadata": {},
   "source": [
    "## 4"
   ]
  },
  {
   "cell_type": "code",
   "execution_count": 8,
   "metadata": {},
   "outputs": [],
   "source": [
    "def isPrime(n):\n",
    "    '''\n",
    "    --------------------------------------------------------------------\n",
    "    This function returns a boolean indicating whether an integer n is a\n",
    "    prime number\n",
    "    --------------------------------------------------------------------\n",
    "    INPUTS:\n",
    "    n = scalar, any scalar value\n",
    "\n",
    "    OTHER FUNCTIONS AND FILES CALLED BY THIS FUNCTION: None\n",
    "\n",
    "    OBJECTS CREATED WITHIN FUNCTION:\n",
    "    i = integer in [2, sqrt(n)]\n",
    "\n",
    "    FILES CREATED BY THIS FUNCTION: None\n",
    "\n",
    "    RETURN: boolean\n",
    "    --------------------------------------------------------------------\n",
    "    '''\n",
    "    for i in range(2, int(np.sqrt(n) + 1)):\n",
    "        if n % i == 0:\n",
    "            return False\n",
    "\n",
    "    return True\n",
    "def primes_ascend(N, min_val=2):\n",
    "    '''\n",
    "    --------------------------------------------------------------------\n",
    "    This function generates an ordered sequence of N consecutive prime\n",
    "    numbers, the smallest of which is greater than or equal to 1 using\n",
    "    the Sieve of Eratosthenes algorithm.\n",
    "    (https://en.wikipedia.org/wiki/Sieve_of_Eratosthenes)\n",
    "    --------------------------------------------------------------------\n",
    "    INPUTS:\n",
    "    N       = integer, number of elements in sequence of consecutive\n",
    "              prime numbers\n",
    "    min_val = scalar >= 2, the smallest prime number in the consecutive\n",
    "              sequence must be greater-than-or-equal-to this value\n",
    "\n",
    "    OTHER FUNCTIONS AND FILES CALLED BY THIS FUNCTION:\n",
    "        isPrime()\n",
    "\n",
    "    OBJECTS CREATED WITHIN FUNCTION:\n",
    "    primes_vec     = (N,) vector, consecutive prime numbers greater than\n",
    "                     min_val\n",
    "    MinIsEven      = boolean, =True if min_val is even, =False otherwise\n",
    "    MinIsGrtrThn2  = boolean, =True if min_val is\n",
    "                     greater-than-or-equal-to 2, =False otherwise\n",
    "    curr_prime_ind = integer >= 0, running count of prime numbers found\n",
    "\n",
    "    FILES CREATED BY THIS FUNCTION: None\n",
    "\n",
    "    RETURN: primes_vec\n",
    "    --------------------------------------------------------------------\n",
    "    '''\n",
    "    primes_vec = np.zeros(N, dtype=int)\n",
    "    MinIsEven = 1 - min_val % 2\n",
    "    MinIsGrtrThn2 = min_val > 2\n",
    "    curr_prime_ind = 0\n",
    "    if not MinIsGrtrThn2:\n",
    "        i = 2\n",
    "        curr_prime_ind += 1\n",
    "        primes_vec[0] = i\n",
    "    i = min(3, min_val + (MinIsEven * 1))\n",
    "    while curr_prime_ind < N:\n",
    "        if isPrime(i):\n",
    "            curr_prime_ind += 1\n",
    "            primes_vec[curr_prime_ind - 1] = i\n",
    "        i += 2\n",
    "\n",
    "    return primes_vec"
   ]
  },
  {
   "cell_type": "markdown",
   "metadata": {},
   "source": [
    "### 4.1"
   ]
  },
  {
   "cell_type": "code",
   "execution_count": 9,
   "metadata": {},
   "outputs": [
    {
     "name": "stdout",
     "output_type": "stream",
     "text": [
      "The smallest number of random draws N is 615\n"
     ]
    }
   ],
   "source": [
    "def M_C(N, func=None, omega=[-1,1,-1,1]):\n",
    "    counter = 0\n",
    "    x_1 = np.random.uniform(omega[0],omega[1],size=N)\n",
    "    x_2 = np.random.uniform(omega[2],omega[3],size=N)\n",
    "    def g(x,y):\n",
    "        if x**2+y**2<=1:\n",
    "            return 1\n",
    "        else:\n",
    "            return 0\n",
    "    for i in range(N):\n",
    "        x,y = x_1[i],x_2[i]\n",
    "        if func is None:\n",
    "            counter += g(x,y)\n",
    "        else:\n",
    "            counter += func(x,y)\n",
    "    return 4*counter/N\n",
    "np.random.seed(25)\n",
    "judge = False\n",
    "min_N = 0\n",
    "while judge is False:\n",
    "    min_N += 1\n",
    "    judge = (round(M_C(min_N),4)==3.1415)\n",
    "print(\"The smallest number of random draws N is\", min_N)"
   ]
  },
  {
   "cell_type": "markdown",
   "metadata": {},
   "source": [
    "### 4.2"
   ]
  },
  {
   "cell_type": "code",
   "execution_count": 10,
   "metadata": {},
   "outputs": [],
   "source": [
    "def equidistribution(n,d,Type='weyl'):\n",
    "    prime_vector = primes_ascend(d)\n",
    "    def rational_list(d):\n",
    "        np.random.seed(25)\n",
    "        origin = np.random.rand(2*d)\n",
    "        return [origin[i]/origin[i+1] for i in range(d)]\n",
    "    def cut(x):\n",
    "        return x-x//1\n",
    "    if Type == 'weyl':\n",
    "        return tuple(cut(n*np.sqrt(prime_vector[i])) for i in range(d))\n",
    "    elif Type == 'haber':\n",
    "        return tuple(cut(n*(n+1)*0.5*np.sqrt(prime_vector[i])) for i in range(d))\n",
    "    elif Type == 'nie':\n",
    "        return tuple(cut(n*(2**(i/(n+1)))) for i in range(d))\n",
    "    elif Type == 'baker':\n",
    "        return tuple(cut(n*(np.e**(rational_list(d)[i]))) for i in range(d))"
   ]
  },
  {
   "cell_type": "markdown",
   "metadata": {},
   "source": [
    "### 4.3"
   ]
  },
  {
   "cell_type": "code",
   "execution_count": 11,
   "metadata": {},
   "outputs": [
    {
     "name": "stdout",
     "output_type": "stream",
     "text": [
      "The smallest number of random draws N for M-C method is 615\n",
      "The smallest number of random draws N for quasi-M-C method with type weyl is 1230\n",
      "The smallest number of random draws N for quasi-M-C method with type haber is 2064\n",
      "The smallest number of random draws N for quasi-M-C method with type baker is 205\n"
     ]
    }
   ],
   "source": [
    "def quasi_M_C(N,Type, func=None,omega=[-1,1,-1,1]):\n",
    "    counter = 0\n",
    "    x = []\n",
    "    for k in range(N):\n",
    "        x.append((2*equidistribution(k,2,Type)[0]-1,2*equidistribution(k,2,Type)[1]-1))\n",
    "    def g(X):\n",
    "        x,y = X[0], X[1]\n",
    "        if x**2+y**2<=1:\n",
    "            return 1\n",
    "        else:\n",
    "            return 0\n",
    "    for i in range(N):\n",
    "        X = x[i]\n",
    "        if func is None:\n",
    "            counter += g(X)\n",
    "        else:\n",
    "            counter += func(X)\n",
    "    return 4*counter/N\n",
    "Text = \"The smallest number of random draws N\"\n",
    "print(Text, \"for M-C method is\", min_N)\n",
    "for method in ['weyl','haber', 'baker']:\n",
    "    judge = False\n",
    "    min_N2 = 0\n",
    "    while judge is False:\n",
    "        min_N2 += 1\n",
    "        judge = (round(quasi_M_C(min_N2,Type = method),4)==3.1415)\n",
    "    print(Text, \"for quasi-M-C method with type\",method, \"is\", min_N2)"
   ]
  },
  {
   "cell_type": "markdown",
   "metadata": {},
   "source": [
    "Since the smallest number of random draws N for quasi-Monte Carlo integration with Baker sequence that matches  the true value of $\\pi$ to the 4th decimal 3.1415 is the smallest, the rates of convergence of quasi-Monte Carlo integration with Baker sequence is the fastest.\n",
    "We can show the convergence rate of quasi-Monte Carlo integration with Niederreiter sequence is the slowest or with the following code:"
   ]
  },
  {
   "cell_type": "code",
   "execution_count": 12,
   "metadata": {},
   "outputs": [
    {
     "data": {
      "text/plain": [
       "0.0041999999999999815"
      ]
     },
     "execution_count": 12,
     "metadata": {},
     "output_type": "execute_result"
    }
   ],
   "source": [
    "round(quasi_M_C(100000,Type = method),4)-3.1415"
   ]
  }
 ],
 "metadata": {
  "kernelspec": {
   "display_name": "Python 3",
   "language": "python",
   "name": "python3"
  },
  "language_info": {
   "codemirror_mode": {
    "name": "ipython",
    "version": 3
   },
   "file_extension": ".py",
   "mimetype": "text/x-python",
   "name": "python",
   "nbconvert_exporter": "python",
   "pygments_lexer": "ipython3",
   "version": "3.6.4"
  }
 },
 "nbformat": 4,
 "nbformat_minor": 2
}
