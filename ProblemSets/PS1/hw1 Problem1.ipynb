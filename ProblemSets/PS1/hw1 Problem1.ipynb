{
 "cells": [
  {
   "cell_type": "markdown",
   "metadata": {},
   "source": [
    "The paper I chose is Yagan(2015). The paper studies the effects of 2003 dividend tax cut on corporate investment and labor income. The mathematical model is as follows:"
   ]
  },
  {
   "cell_type": "markdown",
   "metadata": {},
   "source": [
    "The impact on investment is  estimated as follows:\n",
    "$$INVESTMENT_{it} = \\alpha_{1}CCORP_{i,t-2}+\\alpha_{2}CCORP_{i,t-2}\\times POST_{t}+\\textbf{X}_{i,t-2}\\beta+\\textbf{YEAR}_{t}\\gamma $$\n",
    "\"where $INVESTMENT_{it}$ denotes scaled investment for firm i in a year t between 1998 and 2008 and $CCORP_{i,t-2}$ denotes an indicator for whether firm i was a C-corporation in t–2 , $POST_{t}$ denotes an indicator for year t being 2003 or later, $\\textbf{X}_{i,t-2}$ denotes a possibly empty vector of lagged firm controls, and $\\textbf{YEAR}_{t}$ denotes a vector of year fixed effects.\"(Yagan, 2015, p.3548)"
   ]
  },
  {
   "cell_type": "markdown",
   "metadata": {},
   "source": [
    "In this equation, $INVESTMENT_{it}$ is endogenous, $CCORP_{i,t-2}$, $POST_{t}$, $\\textbf{X}_{i,t-2}$, $\\textbf{YEAR}_{t}$ are exogenous. The model is dynamic(for the variables are time-dependent), linear, and deterministic(for it has no stochastic term)."
   ]
  },
  {
   "cell_type": "markdown",
   "metadata": {},
   "source": [
    "The impact on payouts is estimated as follows:\n",
    "$$PAYOUTS_{it} = \\alpha_{1}CCORP_{i,t-2}+\\textbf{X}_{i,t-2}\\beta+\\textbf{YEAR}_{t}\\gamma+CCORP_{i,t-2}\\times\\textbf{YEAR}_{i,t}\\delta $$\n",
    "where $PAYOUTS_{it}$ denotes scaled payouts for firm i in a year t between 1998 and 2008, \"$CCORP_{i,t-2}\\times\\textbf{YEAR}_{i,t}$ is a vector of six indicators for each year T ∈ {2003, 2004, 2005, 2006, 2007, 2008}, each equal to one if and only if t = T and corporation i was a C-corporation in year t–2 .\"(Yagan, 2015, p.3554)"
   ]
  },
  {
   "cell_type": "markdown",
   "metadata": {},
   "source": [
    "In this equation, $PAYOUTS_{it}$ is endogenous, $CCORP_{i,t-2}$, $\\textbf{X}_{i,t-2}$, $\\textbf{YEAR}_{t}$, $CCORP_{i,t-2}\\times\\textbf{YEAR}_{i,t}$ are exogenous. The model is dynamic(for the variables are time-dependent), linear, and deterministic(for it has no stochastic term)."
   ]
  },
  {
   "cell_type": "markdown",
   "metadata": {},
   "source": [
    "A variable I think might be valuable but not included in the model is whether the corporation is profitable in past years, because it make sense that if corporations have profits, they can have more investments or payouts.\n",
    "\n",
    "\n",
    "\n",
    "\n",
    "\n",
    "$\\textbf{Reference}$"
   ]
  },
  {
   "cell_type": "markdown",
   "metadata": {},
   "source": [
    "Yagan, Danny. 2015. \"Capital Tax Reform and the Real Economy: The Effects of the 2003 Dividend Tax Cut.\" American Economic Review, 105 (12): 3531-63. "
   ]
  }
 ],
 "metadata": {
  "kernelspec": {
   "display_name": "Python 3",
   "language": "python",
   "name": "python3"
  },
  "language_info": {
   "codemirror_mode": {
    "name": "ipython",
    "version": 3
   },
   "file_extension": ".py",
   "mimetype": "text/x-python",
   "name": "python",
   "nbconvert_exporter": "python",
   "pygments_lexer": "ipython3",
   "version": "3.6.4"
  }
 },
 "nbformat": 4,
 "nbformat_minor": 2
}
