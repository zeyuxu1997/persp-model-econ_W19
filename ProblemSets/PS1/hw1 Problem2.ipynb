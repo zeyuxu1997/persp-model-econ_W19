{
 "cells": [
  {
   "cell_type": "markdown",
   "metadata": {},
   "source": [
    "My model is as follows:\n",
    "$$MARRIAGE = \\frac{e^{\\alpha_{1}LOVER + \\alpha_{2}AGE + \\alpha_{3}INCOME + \\alpha_{4}MALE + CONS}}{1+e^{\\alpha_{1}LOVER + \\alpha_{2}AGE + \\alpha_{3}INCOME + \\alpha_{4}MALE + CONS}}$$\n",
    "where $MARRIAGE$ is a indicator of whether the person decides to get married, it will take 1 if the right hand side is more than 0.5, suggesting the person decides to get married, otherwise it will take 0 which means the person decides not to get married, $LOVER$ is a indicator of whether the person has a lover (equals to 1) or not (equals to 0), and it obeys the Bernoulli distribution with a p of 0.5 (by assumption), $AGE$ denotes the age of the person and obeys a normal distribution with a $\\mu$ of 40 and a $\\sigma^{2}$ of $36.7^{2}$ (by assumption and the fact that the median of population in United States is about 40 and about 25% people are 65 years old or older), $INCOME$ denotes the annual real income of a person and obeys a normal distribution with a $\\mu$ of 74000 and a $\\sigma^{2}$ of $57407^{2}$ (by assumption and the fact that the median of personal income in United States is about \\$74000 and about 14% people are in poverty, i.e. the income is below \\$12000), $MALE$ is a indicator of whether the person is a male (equals to 1) or a female (equals to 0), and it obeys the Bernoulli distribution with a p of 0.494 (according to the census in 2018), $CONS$ is the constant term."
   ]
  },
  {
   "cell_type": "markdown",
   "metadata": {},
   "source": [
    "I think the key factors are $LOVER$ and $AGE$, because if the person has a lover, he or she has the one that he or she wants to marry and is more probable to succeed in making a proposal. Besides, if the person is older, he or she will be more willing to settle down and have a family to enjoy a stable and harmony relationship with some specific people. As for income and gender, they may affect the decision, but they are not key factors. The couple can support each other so the income of a single person might not be so significant, and the trend of gender equality reduces the impact of the gender on decision of marriage."
   ]
  },
  {
   "cell_type": "markdown",
   "metadata": {},
   "source": [
    "A preliminary test could be a questionnaire survey to people through mutiple channels like Facebook, phone call or interview on the street. The questions could be like \"what factors do you think is most important to you when consider whether to get married?\", and there can be options including all variables mentioned before and \"others\" to allow questionnaire takers to express their own opions."
   ]
  }
 ],
 "metadata": {
  "kernelspec": {
   "display_name": "Python 3",
   "language": "python",
   "name": "python3"
  },
  "language_info": {
   "codemirror_mode": {
    "name": "ipython",
    "version": 3
   },
   "file_extension": ".py",
   "mimetype": "text/x-python",
   "name": "python",
   "nbconvert_exporter": "python",
   "pygments_lexer": "ipython3",
   "version": "3.6.4"
  }
 },
 "nbformat": 4,
 "nbformat_minor": 2
}
