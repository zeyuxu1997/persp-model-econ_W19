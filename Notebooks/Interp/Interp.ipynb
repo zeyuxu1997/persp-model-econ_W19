{
 "cells": [
  {
   "cell_type": "markdown",
   "metadata": {},
   "source": [
    "# Interpolation\n",
    "### by [Richard W. Evans](https://sites.google.com/site/rickecon/), February 2019\n",
    "The code in this Jupyter notebook was written using Python 3.6. It also uses data file ? and the image file ?. This data file and image file are stored along with the Jupyter notebook file `Interp.ipynb` in the public GitHub repository [https://github.com/rickecon/Notebooks/tree/master/GMM](https://github.com/rickecon/Notebooks/tree/master/Interp).\n",
    "\n",
    "For teaching and learning purposes, it is best to clear all cell output by selecting `Cell` then `All Output` then `Clear` from the menu across the top of this notebook. However, this notebook comes with all the cells' output displayed."
   ]
  },
  {
   "cell_type": "markdown",
   "metadata": {},
   "source": [
    "## 1. Introduction\n",
    "Interpolation is a nonparametric method of inferring unknown data from known data.  "
   ]
  },
  {
   "cell_type": "markdown",
   "metadata": {},
   "source": [
    "## 2. Examples\n",
    "\n",
    "### 2.1. Fertility rates\n",
    "The U.S. National Vital Statistics Reports, Volume 64, Number 1,    January 15, 2015, Table 3, final 2013 data [http://www.cdc.gov/nchs/data/nvsr/nvsr64/nvsr64_01.pdf](http://www.cdc.gov/nchs/data/nvsr/nvsr64/nvsr64_01.pdf) shows number of births per 1,000 females by age group"
   ]
  },
  {
   "cell_type": "code",
   "execution_count": null,
   "metadata": {},
   "outputs": [],
   "source": [
    "import numpy as np\n",
    "import matplotlib.pyplot as plt\n",
    "from matplotlib.ticker import MultipleLocator\n",
    "%matplotlib notebook\n",
    "\n",
    "# Hard code input births data by age group\n",
    "# Add two zeros on the end of each vector\n",
    "# Age bins are 9, 10, 10-14, 15-17, 18-19, 20-24, 25-29, 30-34, 35-39,\n",
    "# 40-44, 45-49, 55, 56. First two and last two are not data\n",
    "\n",
    "fert_data = (np.array([0.0, 0.0, 0.3, 12.3, 47.1, 80.7, 105.5, 98.0,\n",
    "                       49.3, 10.4, 0.8, 0.0, 0.0]) / 2000)\n",
    "age_midp = np.array([9, 10, 12, 16, 18.5, 22, 27, 32, 37, 42, 47,\n",
    "                     55, 56])\n",
    "\n",
    "fig, ax = plt.subplots()\n",
    "plt.scatter(age_midp, fert_data, s=40, c='blue', marker='o',\n",
    "            label='Data')\n",
    "# for the minor ticks, use no labels; default NullFormatter\n",
    "minorLocator = MultipleLocator(1)\n",
    "ax.xaxis.set_minor_locator(minorLocator)\n",
    "plt.grid(b=True, which='major', color='0.65', linestyle='-')\n",
    "plt.xlabel(r'Age $s$')\n",
    "plt.ylabel(r'Fertility rate $f_{s}$')"
   ]
  },
  {
   "cell_type": "code",
   "execution_count": null,
   "metadata": {},
   "outputs": [],
   "source": [
    "import scipy.interpolate as si\n",
    "\n",
    "fert_func = si.interp1d(age_midp, fert_data, kind='linear')\n",
    "age_fine = np.linspace(age_midp.min(), age_midp.max(), 100)\n",
    "fert_fine = fert_func(age_fine)\n",
    "\n",
    "fig, ax = plt.subplots()\n",
    "plt.scatter(age_midp, fert_data, s=40, c='blue', marker='o',\n",
    "            label='Data')\n",
    "plt.scatter(age_fine, fert_fine, s=20, c='red', marker='o',\n",
    "            alpha=0.5, label='Cubic spline points')\n",
    "plt.plot(age_fine, fert_fine, label='Cubic spline')\n",
    "# for the minor ticks, use no labels; default NullFormatter\n",
    "minorLocator = MultipleLocator(1)\n",
    "ax.xaxis.set_minor_locator(minorLocator)\n",
    "plt.grid(b=True, which='major', color='0.65', linestyle='-')\n",
    "plt.title('Fitted fertility rate function by age ($f_{s}$)',\n",
    "          fontsize=20)\n",
    "plt.xlabel(r'Age $s$')\n",
    "plt.ylabel(r'Fertility rate $f_{s}$')\n",
    "plt.xlim((age_midp.min() - 1, age_midp.max() + 1))\n",
    "plt.ylim((-0.15 * (fert_fine.max()),\n",
    "          1.15 * (fert_fine.max())))\n",
    "plt.legend(loc='upper right')"
   ]
  },
  {
   "cell_type": "markdown",
   "metadata": {},
   "source": [
    "### 2.2. Interpolation through lots of points (regression)\n",
    "This is what I have you doing in your problem set.\n",
    "Good functions are ..."
   ]
  },
  {
   "cell_type": "code",
   "execution_count": null,
   "metadata": {},
   "outputs": [],
   "source": []
  }
 ],
 "metadata": {
  "kernelspec": {
   "display_name": "Python 3",
   "language": "python",
   "name": "python3"
  },
  "language_info": {
   "codemirror_mode": {
    "name": "ipython",
    "version": 3
   },
   "file_extension": ".py",
   "mimetype": "text/x-python",
   "name": "python",
   "nbconvert_exporter": "python",
   "pygments_lexer": "ipython3",
   "version": "3.6.8"
  }
 },
 "nbformat": 4,
 "nbformat_minor": 2
}
