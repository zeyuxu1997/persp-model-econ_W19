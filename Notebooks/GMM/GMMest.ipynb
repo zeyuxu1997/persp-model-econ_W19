{
 "cells": [
  {
   "cell_type": "markdown",
   "metadata": {},
   "source": [
    "# Generalized Method of Moments (GMM) Estimation\n",
    "### by [Richard W. Evans](https://sites.google.com/site/rickecon/), February 2019\n",
    "The code in this Jupyter notebook was written using Python 3.6. It also uses data file `Econ381totpts.txt` and the image file `MLEplots.png`. This data file and image file are stored along with the Jupyter notebook file `GMMest.ipynb` in the public GitHub repository [https://github.com/rickecon/Notebooks/tree/master/GMM](https://github.com/rickecon/Notebooks/tree/master/GMM).\n",
    "\n",
    "For teaching and learning purposes, it is best to clear all cell output by selecting `Cell` then `All Output` then `Clear` from the menu across the top of this notebook. However, this notebook comes with all the cells' output displayed."
   ]
  },
  {
   "cell_type": "markdown",
   "metadata": {},
   "source": [
    "## 1. MLE vs. GMM: Strengths and weaknesses\n",
    "A paper by Fuhrer, et al (1995) studies the accuracy and efficiency of the maximum likelihood (ML) estimator versus the generalized method of moments (GMM) estimator in the context of a simple linear-quadratic inventory model. They find that ML has some very nice properties over GMM in small samples when the model is simple. In the spirit of the Fuhrer, et al (1995) paper, we list the strengths and weaknesses of MLE vs. GMM more generally. I recommend you read the introduction to Fuhrer, et al (1995)."
   ]
  },
  {
   "cell_type": "markdown",
   "metadata": {},
   "source": [
    "### 1.1. MLE strengths\n",
    "* More statistical significance. In general, MLE provides more statistical significance for parameter estimates than does GMM. This comes from the strong distributional assumptions that are necessary for the ML estimates.\n",
    "* ML estimates are less sensitive to parameter or model normalizations than are GMM estimates.\n",
    "* ML estimates have nice small sample properties. ML estimates have less bias and more efficiency with small data samples than GMM estimates in many cases."
   ]
  },
  {
   "cell_type": "markdown",
   "metadata": {},
   "source": [
    "### 1.2. MLE weaknesses\n",
    "* MLE requires strong distributional assumptions. For MLE, the data generating process (DGP) must be completely specified. This assumes a lot of knowledge about the DGP. This assumption is likely almost always wrong.\n",
    "* MLE is very difficult in rational expectations models. This is because the consistency of beliefs induces a nonlinearity in the likelihood function that makes it difficult to find the global optimum.\n",
    "* MLE is very difficult in nonlinear models. The likelihood function can become highly nonlinear in MLE even if the model is linear when the data are irregular. This difficulty is multiplied when the model itself is more complicated and nonlinear."
   ]
  },
  {
   "cell_type": "markdown",
   "metadata": {},
   "source": [
    "### 1.3. GMM strengths\n",
    "* GMM allows for most flexible identification. GMM estimates can be identified by any set of moments from the data as long as you have at least as many moments as you have parameters to estimate and that those moments are independent enough to identify the parameters. (And the parameters are independent enough of each other to be separately identified.)\n",
    "* Good large sample properties. The GMM estimator is strongly consistent and asymptotically normal. GMM will likely be the best estimator if you have a lot of data.\n",
    "* GMM requires minimal assumptions about the DGP. In GMM, you need not specify the distributions of the error terms in your model of the DGP. This is often a strength, given that most error are not observed and most models are gross approximations of the true DGP."
   ]
  },
  {
   "cell_type": "markdown",
   "metadata": {},
   "source": [
    "### 1.4. GMM weaknesses\n",
    "* GMM estimates are usually less statistically significant than ML estimates. This comes from the minimal distributional assumptions. GMM parameter estimates usually are measured with more error.\n",
    "* GMM estimates can be sensitive to normalizations of the model or parameters.\n",
    "* GMM estimates have bad small sample properties. GMM estimates can have large bias and inefficiency in small samples."
   ]
  },
  {
   "cell_type": "markdown",
   "metadata": {},
   "source": [
    "### 1.5. Key questions to answer when deciding between MLE and GMM\n",
    "1. How much data is available for the estimation? Large data samples will make GMM relatively more attractive than MLE because of the nice large sample properties of GMM and fewer required assumptions on the model\n",
    "2. How complex is the model? Linear models or quadratic models are much easier to do using MLE than are more highly nonlinear models. Rational expectations models (macroeconomics) create an even more difficult level of nonlinearity that pushes you toward GMM estimation.\n",
    "3. How comfortable are you making strong distributional assumptions? MLE requires a complete specification of all distributional assumptions of the model DGP. If you think these assumptions are too strong, you should use GMM."
   ]
  },
  {
   "cell_type": "markdown",
   "metadata": {},
   "source": [
    "## 2. The GMM estimator\n",
    "GMM was first formalized by Hansen (1982). A strength of GMM estimation is that the econometrician can remain completely agnostic as to the distribution of the random variables in the DGP. For identification, the econometrician simply needs at least as many moment conditions from the data as he has parameters to estimate.\n",
    "\n",
    "A *moment* of the data is broadly defined as any statistic that summarizes the data to some degree. A data moment could be as narrow as an individual observation from the data or as broad as the sample average. GMM estimates the parameters of a model or data generating process to make the model moments as close as possible to the corresponding data moments. See Davidson and MacKinnon (2004, ch. 9) for a more detailed treatment of GMM. The estimation methods of linear least squares, nonlinear least squares, generalized least squares, and instrumental variables estimation are all specific cases of the more general GMM estimation method.\n",
    "\n",
    "Let $m(x)$ be an $R\\times 1$ vector of moments from the real world data $x$. And let $x$ be an $N\\times K$ matrix of data with $K$ columns representing $K$ variables and $N$ observations. Let the model DGP be characterized as $F(x,\\theta)$, where $F$ is a vector of equations, each of which is a function of the data $x$ and the $K\\times 1$ parameter vector $\\theta$. Then define $m(x|\\theta)$ as a vector of $R$ moments from the model that correspond to the real-world moment vector $m(x)$. Note that GMM requires both real world data $x$ and deterministic moments from the model $m(x|\\theta)$ in order to estimate $\\hat{\\theta}_{GMM}$. There is also a stochastic way to generate moments from the model, which we discuss later in our section on Simulated Method of Moments (SMM).\n",
    "\n",
    "The GMM approach of estimating the parameter vector $\\hat{\\theta}_{GMM}$ is to choose $\\theta$ to minimize some distance measure of the data moments $m(x)$ from the model moments $m(x|\\theta)$.\n",
    "\n",
    "$$ \\hat{\\theta}_{GMM}=\\theta:\\quad \\min_{\\theta}\\: ||m(x) - m(x|\\theta)|| $$\n",
    "\n",
    "The distance measure $||m(x)-m(x|\\theta)||$ can be any kind of norm. But it is important to recognize that your estimates $\\hat{\\theta}_{GMM}$ will be dependent on what distance measure (norm) you choose. The most widely studied and used distance metric in GMM estimation is the $L^2$ norm or the sum of squared errors in moments. Define the moment error function $e(x|\\theta)$ as either the percent difference in the vector of model moments from the data moments or the simple difference.\n",
    "\n",
    "$$ e(x|\\theta) \\equiv \\frac{m(x) - m(x|\\theta)}{m(x|\\theta)} \\quad\\text{or}\\quad m(x)-m(x|\\theta) $$\n",
    "\n",
    "It is important when possible that the error function $e(x|\\theta)$ be a percent deviation of the moments (given that none of the data moments are 0). This puts all the moments in the same units, which helps make sure that no moments receive unintended weighting simply due to its units. This ensures that the problem is scaled properly and does not suffer from ill conditioning. However, percent deviations become computationally problematic when the data moments are zero or close to zero. In that case, you would use a simple difference.\n",
    "\n",
    "The GMM estimator is the following,\n",
    "\n",
    "$$ \\hat{\\theta}_{GMM}=\\theta:\\quad \\min_{\\theta}\\:e(x|\\theta)^T \\, W \\, e(x|\\theta) $$\n",
    "\n",
    "where $W$ is a $R\\times R$ weighting matrix in the criterion function. For now, think of this weighting matrix as the identity matrix. But we will show in Section 3 a more optimal weighting matrix. We call the quadratic form expression $e(x|\\theta)^T \\, W \\, e(x|\\theta)$ the *criterion function* because it is a strictly positive scalar that is the object of the minimization in the GMM problem statement. The $R\\times R$ weighting matrix $W$ in the criterion function allows the econometrician to control how each moment is weighted in the minimization problem. For example, an $R\\times R$ identity matrix for $W$ would give each moment equal weighting, and the criterion function would be a simply sum of squared percent deviations (errors). Other weighting strategies can be dictated by the nature of the problem or model."
   ]
  },
  {
   "cell_type": "markdown",
   "metadata": {},
   "source": [
    "## 3. The Weighting Matrix (W)\n",
    "In the GMM criterion function in the problem statement above, some weighting matrices $W$ produce precise estimates while others produce poor estimates with large variances. We want to choose the optimal weighting matrix $W$ with the smallest possible asymptotic variance. This is an efficient of optimal GMM estimator. The optimal weighting matrix is the inverse variance covariance matrix of the moments at the optimal parameter values,\n",
    "\n",
    "$$ W^{opt} \\equiv \\Omega^{-1}(x|\\hat{\\theta}_{GMM}) $$\n",
    "\n",
    "where $\\Omega(x|\\theta)$ is the variance covariance matrix of the moment condition errors $E(x|\\theta)$ from each observation in the data (to be defined below). The intuition for using the inverse variance covariance matrix $\\Omega^{-1}$ as the optimal weighting matrix is the following. You want to downweight moments that have a high variance, and you want to weight more heavily the moments that are generated more precisely.\n",
    "\n",
    "Notice that this definition of the optimal weighting matrix is circular. $W^{opt}$ is a function of the GMM estimates $\\hat{\\theta}_{GMM}$, but the optimal weighting matrix is used in the estimation of $\\hat{\\theta}_{GMM}$. This means that one has to use some kind of iterative fixed point method to find the true optimal weighting matrix $W^{opt}$. Below are some examples of weighting matrices to use."
   ]
  },
  {
   "cell_type": "markdown",
   "metadata": {},
   "source": [
    "### 3.1. The identity matrix (W = I)\n",
    "Many times, you can get away with just using the identity matrix as your weighting matrix $W = I$. This changes the criterion function to a simple sum of squared error functions such that each moment has the same weight.\n",
    "\n",
    "$$ \\hat{\\theta}_{GMM}=\\theta:\\quad \\min_{\\theta}\\:e(x|\\theta)^T \\, e(x|\\theta) $$\n",
    "\n",
    "If the problem is well conditioned and well identified, then your GMM estimates $\\hat{\\theta}_{GMM}$ will not be greatly affected by this simplest of weighting matrices."
   ]
  },
  {
   "cell_type": "markdown",
   "metadata": {},
   "source": [
    "### 3.2. Two-step variance covariance estimator of W\n",
    "The most common method of estimating the optimal weighting matrix for GMM estimates is the two-step variance covariance estimator. The name \"two-step\" refers to the two steps used to get the weighting matrix.\n",
    "\n",
    "The first step is to estimate the GMM parameter vector $\\hat{\\theta}_{1,GMM}$ using the simple identity matrix as the weighting matrix $W = I$.\n",
    "\n",
    "$$ \\hat{\\theta}_{1, GMM}=\\theta:\\quad \\min_{\\theta}\\:e(x|\\theta)^T \\, I \\, e(x|\\theta) $$\n",
    "\n",
    "You then use the errors from each observation in the data $E(x|\\theta)$ that generated the error vector $e(x|\\theta)$, which data matrix is $R\\times N$ and if summed across the rows gives the error vector. When the errors are simple differences the $E(x|\\theta)$ matrix is the following,\n",
    "\n",
    "$$ E(x|\\theta) =\n",
    "  \\begin{bmatrix}\n",
    "    m_1(x|\\theta) - m_1(x_1) & m_1(x|\\theta) - m_1(x_2) & ... & m_1(x|\\theta) - m_1(x_N) \\\\\n",
    "    m_2(x|\\theta) - m_2(x_1) & m_2(x|\\theta) - m_2(x_2) & ... & m_2(x|\\theta) - m_2(x_N) \\\\\n",
    "    \\vdots & \\vdots & \\ddots & \\vdots \\\\\n",
    "    m_R(x|\\theta) - m_R(x_1) & m_R(x|\\theta) - m_R(x_2) & ... & m_R(x|\\theta) - m_R(x_N) \\\\\n",
    "  \\end{bmatrix} $$\n",
    "\n",
    "where $m_r(x_i)$ is a function associated with the $r$th moment and the $i$th data observation. When the errors are percent deviations, the $E(x|\\theta)$ matrix is the following,\n",
    "\n",
    "$$ E(x|\\theta) =\n",
    "  \\begin{bmatrix}\n",
    "    \\frac{m_1(x_1) - m_1(x|\\theta)}{m_1(x|\\theta)} & \\frac{m_1(x_2) - m_1(x|\\theta)}{m_1(x|\\theta)} & ... & \\frac{m_1(x_N) - m_1(x|\\theta)}{m_1(x|\\theta)} \\\\\n",
    "    \\frac{m_2(x_1) - m_2(x|\\theta)}{m_2(x|\\theta)} & \\frac{m_2(x_2) - m_2(x|\\theta)}{m_2(x|\\theta)} & ... & \\frac{m_2(x_N) - m_2(x|\\theta)}{m_2(x|\\theta)} \\\\\n",
    "    \\vdots & \\vdots & \\ddots & \\vdots \\\\\n",
    "    \\frac{m_R(x_1) - m_R(x|\\theta)}{m_R(x|\\theta)} & \\frac{m_R(x_2) - m_R(x|\\theta)}{m_R(x|\\theta)} & ... & \\frac{m_R(x_N) - m_R(x|\\theta)}{m_R(x|\\theta)} \\\\\n",
    "  \\end{bmatrix} $$\n",
    "\n",
    "where the denominator of the percentage deviation or baseline is the model moment that does not change. We use the $E(x|\\theta)$ data matrix and the Step 1 GMM estimate $e(x|\\hat{\\theta}_{1,GMM})$ to get a new estimate of the variance covariance matrix.\n",
    "\n",
    "$$ \\hat{\\Omega}_2 = \\frac{1}{N}E(x|\\hat{\\theta}_{1,GMM})\\,E(x|\\hat{\\theta}_{1,GMM})^T $$\n",
    "\n",
    "This is simply saying that the $(r,s)$-element of the estimator of the variance-covariance matrix of the moment vector is the following.\n",
    "\n",
    "$$\\hat{\\Omega}_{r,s} = \\frac{1}{N}\\sum_{i=1}^N\\Bigl[m_r(x|\\theta) - m_{r}(x_i)\\Bigr]\\Bigl[ m_s(x|\\theta) - m_s(x_i)\\Bigr] $$\n",
    "\n",
    "The optimal weighting matrix is the inverse of the two-step variance covariance matrix.\n",
    "\n",
    "$$ \\hat{W}^{two-step} \\equiv \\hat{\\Omega}_2^{-1} $$\n",
    "\n",
    "Lastly, re-estimate the GMM estimator using the optimal two-step weighting matrix.\n",
    "\n",
    "$$ \\hat{\\theta}_{2, GMM}=\\theta:\\quad \\min_{\\theta}\\:e(x|\\theta)^T \\, \\hat{W}^{two-step} \\, e(x|\\theta) $$\n",
    "\n",
    "$\\hat{\\theta}_{2, GMM}$ is called the two-step GMM estimator."
   ]
  },
  {
   "cell_type": "markdown",
   "metadata": {},
   "source": [
    "### 3.3. Iterated variance covariance estimator of W\n",
    "The truly optimal weighting matrix $W^{opt}$ is the iterated variance-covariance estimator of $W$. This procedure is to just repeat the process described in the two-step GMM estimator until the estimated weighting matrix no longer changes between iterations. Let $i$ index the $i$th iterated GMM estimator,\n",
    "\n",
    "$$ \\hat{\\theta}_{i, GMM}=\\theta:\\quad \\min_{\\theta}\\:e(x|\\theta)^T \\, \\hat{W}_{i} \\, e(x|\\theta) $$\n",
    "\n",
    "and the $i+1$th estimate of the optimal weighting matrix is defined as the following.\n",
    "\n",
    "$$ \\hat{W}_{i+1} \\equiv \\hat{\\Omega}_{i+1} = \\frac{1}{N}E(x|\\hat{\\theta}_{i,GMM})\\,E(x|\\hat{\\theta}_{i,GMM})^T $$\n",
    "\n",
    "The iterated GMM estimator is the $\\hat{\\theta}_{i,GMM}$ such that $\\hat{W}_{i+1}$ is very close to $\\hat{W}_{i}$ for some distance metric (norm).\n",
    "\n",
    "$$ \\hat{\\theta}_{it,GMM} = \\hat{\\theta}_{i,GMM}: \\quad || \\hat{W}_{i+1} - \\hat{W}_{i} || < \\varepsilon $$"
   ]
  },
  {
   "cell_type": "markdown",
   "metadata": {},
   "source": [
    "### 3.4. Newey-West consistent estimator of $\\Omega$ and W\n",
    "The Newey-West estimator of the optimal weighting matrix and variance covariance matrix is consistent in the presence of heteroskedasticity and autocorrelation in the data (See Newey and West, 1987). Adda and Cooper (2003, p. 82) have a nice exposition of how to compute the Newey-West weighting matrix $\\hat{W}_{nw}$. The asymptotic representation of the optimal weighting matrix $\\hat{W}^{opt}$ is the following:\n",
    "\n",
    "$$ \\hat{W}^{opt} = \\lim_{N\\rightarrow\\infty}\\frac{1}{N}\\sum_{i=1}^N \\sum_{l=-\\infty}^\\infty E(x_i|\\theta)E(x_{i-l}|\\theta)^T $$\n",
    "\n",
    "The Newey-West consistend estimator of $\\hat{W}^{opt}$ is:\n",
    "\n",
    "$$ \\hat{W}_{nw} = \\Gamma_{0,N} + \\sum_{v=1}^q \\left(1 - \\left[\\frac{v}{q+1}\\right]\\right)\\left(\\Gamma_{v,N} + \\Gamma^T_{v,N}\\right) $$\n",
    "\n",
    "where\n",
    "\n",
    "$$ \\Gamma_{v,N} = \\frac{1}{N}\\sum_{i=v+1}^N E(x_i|\\theta)E(x_{i-v}|\\theta)^T $$\n",
    "\n",
    "Of course, for autocorrelation, the subscript $i$ and the sample size $N$ can be changed to $t$ and $T$, respectively."
   ]
  },
  {
   "cell_type": "markdown",
   "metadata": {},
   "source": [
    "## 4. The GMM Variance-Covariance Estimator of the Estimated Parameters\n",
    "The estimated variance-covariance matrix $\\hat{\\Sigma}$ of the estimated parameter vector $\\hat{\\theta}_{GMM}$ is different from the variance-covariance matrix $\\hat{\\Omega}$ of the moment vector $e(x|\\theta)$ from the previous section. $\\hat{\\Omega}$ from the previous section is the $R\\times R$ variance-covariance matrix of the $R$ moment errors used to identify the $K$ parameters $\\theta$ to be estimated. The estimated variance-covariance matrix of the estimated parameter vector $\\hat{\\Sigma}$ is a $K\\times K$ matrix. We say the model is exactly identified if $K = R$. We say the model is overidentified if $K<R$.\n",
    "\n",
    "Similar to the inverse Hessian estimator of the variance-covariance matrix of the maximum likelihood estimator from the [maximum likelihood estimation notebook](https://github.com/rickecon/Notebooks/blob/master/MLE/MLest.ipynb), the GMM variance-covariance matrix is related to the derivative of the criterion function with respect to each parameter. The intuition is that if the second derivative of the criterion function with respect to the parameters is large, there is a lot of curvature around the criterion minimizing estimate. In other words, the parameters of the model are precisely estimated. The inverse of the Hessian matrix will be small."
   ]
  },
  {
   "cell_type": "markdown",
   "metadata": {},
   "source": [
    "Define $R\\times K$ matrix $d(x|\\theta)$ as the Jacobian matrix of derivatives of the $R\\times 1$ error vector $e(x|\\theta)$.\n",
    "\n",
    "\\begin{equation}\n",
    "  d(x|\\theta) \\equiv\n",
    "    \\begin{bmatrix}\n",
    "      \\frac{\\partial e_1(x|\\theta)}{\\partial \\theta_1} & \\frac{\\partial e_1(x|\\theta)}{\\partial \\theta_2} & ... & \\frac{\\partial e_1(x|\\theta)}{\\partial \\theta_K} \\\\\n",
    "      \\frac{\\partial e_2(x|\\theta)}{\\partial \\theta_1} & \\frac{\\partial e_2(x|\\theta)}{\\partial \\theta_2} & ... & \\frac{\\partial e_2(x|\\theta)}{\\partial \\theta_K} \\\\\n",
    "      \\vdots & \\vdots & \\ddots & \\vdots \\\\\n",
    "      \\frac{\\partial e_R(x|\\theta)}{\\partial \\theta_1} & \\frac{\\partial e_R(x|\\theta)}{\\partial \\theta_2} & ... & \\frac{\\partial e_R(x|\\theta)}{\\partial \\theta_K}\n",
    "    \\end{bmatrix}\n",
    "\\end{equation}\n",
    "\n",
    "The GMM estimates of the parameter vector $\\hat{\\theta}_{GMM}$ are assymptotically normal. If $\\theta_0$ is the true value of the parameters, then the following holds,\n",
    "\n",
    "\\begin{equation}\n",
    "  \\text{plim}_{N\\rightarrow\\infty}\\sqrt{N}\\left(\\hat{\\theta}_{GMM} - \\theta_0\\right) \\sim \\text{N}\\left(0, \\left[d(x|\\theta)^T W d(x|\\theta)\\right]^{-1}\\right)\n",
    "\\end{equation}\n",
    "\n",
    "where $W$ is the optimal weighting matrix from the GMM criterion function. The GMM estimator for the variance-covariance matrix $\\hat{\\Sigma}_{GMM}$ of the parameter vector $\\hat{\\theta}_{GMM}$ is the following.\n",
    "\n",
    "\\begin{equation}\n",
    "  \\hat{\\Sigma}_{GMM} = \\frac{1}{N}\\left[d(x|\\theta)^T W d(x|\\theta)\\right]^{-1}\n",
    "\\end{equation}"
   ]
  },
  {
   "cell_type": "markdown",
   "metadata": {},
   "source": [
    "In the examples below, we will use a finite difference method to compute numerical versions of the Jacobian matrix $d(x|\\theta)$.\n",
    "\n",
    "$$ f'(x_0) = \\lim_{h\\rightarrow 0} \\frac{f(x_0 + h) - f(x_0)}{h} $$\n",
    "\n",
    "The following is a centered second-order numerical approximation of the derivative of a function. (See [BYU ACME numerical differentiation lab](https://github.com/UC-MACSS/persp-model-econ_W19/blob/master/Notes/ACME_NumDiff.pdf) for more details.)\n",
    "\n",
    "$$ f'(x_0) \\approx \\frac{f(x_0 + h) - f(x_0 - h)}{2h} $$"
   ]
  },
  {
   "cell_type": "markdown",
   "metadata": {},
   "source": [
    "## 5. Examples\n",
    "In this section, we will use GMM to estimate parameters of the models from the [maximum likelihood estimation notebook](https://github.com/rickecon/Notebooks/blob/master/MLE/MLest.ipynb). We will also go through the standard moment conditions in most econometrics textbooks in which the conditional and unconditional expectations provide moments for estimation."
   ]
  },
  {
   "cell_type": "markdown",
   "metadata": {},
   "source": [
    "### 5.1. Fitting a truncated normal to intermediate macroeconomics test scores\n",
    "Let's revisit the problem from the MLE notebook of fitting a truncated normal distribution to intermediate macroeconomics test scores. The data are in the text file `Econ381totpts.txt`. Recall that these test scores are between 0 and 450. The figure below shows a histogram of the data, as well as three truncated normal PDF's. The black line is the ML estimate of $\\mu$ and $\\sigma$ of the truncated normal pdf. The red and the green lines are just the PDF's of two \"arbitrarily\" chosen combinations of the truncated normal parameters $\\mu$ and $\\sigma$."
   ]
  },
  {
   "cell_type": "code",
   "execution_count": 1,
   "metadata": {},
   "outputs": [],
   "source": [
    "# Import packages and load the data\n",
    "import numpy as np\n",
    "import numpy.linalg as lin\n",
    "import scipy.stats as sts\n",
    "import scipy.integrate as intgr\n",
    "import scipy.optimize as opt\n",
    "import matplotlib\n",
    "import matplotlib.pyplot as plt\n",
    "from mpl_toolkits.mplot3d import Axes3D\n",
    "from matplotlib import cm\n",
    "cmap1 = matplotlib.cm.get_cmap('summer')\n",
    "# This next command is specifically for Jupyter Notebook\n",
    "%matplotlib notebook\n",
    "\n",
    "import requests\n",
    "from IPython.display import Image"
   ]
  },
  {
   "cell_type": "code",
   "execution_count": 2,
   "metadata": {},
   "outputs": [
    {
     "data": {
      "image/png": "[encoded data removed]",
      "text/plain": [
       "<IPython.core.display.Image object>"
      ]
     },
     "execution_count": 2,
     "metadata": {},
     "output_type": "execute_result"
    }
   ],
   "source": [
    "# Download and save the data file MLEplots.png\n",
    "url = ('https://raw.githubusercontent.com/rickecon/Notebooks/' +\n",
    "       'master/GMM/images/MLEplots.png')\n",
    "image_file = requests.get(url, allow_redirects=True)\n",
    "open('images/MLEplots.png', 'wb').write(image_file.content)\n",
    "Image(\"images/MLEplots.png\")"
   ]
  },
  {
   "cell_type": "markdown",
   "metadata": {},
   "source": [
    "#### 5.1.1. Two moments, identity weighting matrix\n",
    "Let's try estimating the parameters $\\mu$ and $\\sigma$ by GMM. What moments should we use? Let's try the mean and variance of the data. These two statistics of the data are defined by:\n",
    "\n",
    "$$ mean(scores_i) = \\frac{1}{N}\\sum_{i=1}^N scores_i $$\n",
    "\n",
    "$$ var(scores_i) = \\frac{1}{N}\\sum_{i=1}^{N} \\left(scores_i - mean(scores_i)\\right)^2 $$\n",
    "\n",
    "So the data moment vector $m(x)$ for GMM is the following.\n",
    "\n",
    "$$ m(scores_i) \\equiv \\begin{bmatrix} mean(scores_i) \\\\ var(scores_i) \\end{bmatrix} $$\n",
    "\n",
    "And the model moment vector $m(x|\\theta)$ for GMM is the following.\n",
    "\n",
    "$$ m(scores_i|\\mu,\\sigma) \\equiv \\begin{bmatrix} mean(scores_i|\\mu,\\sigma) \\\\ var(scores_i|\\mu,\\sigma) \\end{bmatrix} $$\n",
    "\n",
    "Define the error vector as the vector of percent deviations of the model moments from the data moments.\n",
    "\n",
    "$$ e(scores_i|\\mu,\\sigma) \\equiv \\frac{m(scores_i|\\mu,\\sigma) - m(scores_i)}{m(scores_i)} $$\n",
    "\n",
    "The GMM estimator for this moment vector is the following.\n",
    "\n",
    "$$ (\\hat{\\mu}_{GMM},\\hat{\\sigma}_{GMM}) = (\\mu,\\sigma):\\quad \\min_{\\mu,\\sigma} e(scores_i|\\mu,\\sigma)^T \\, W \\, e(scores_i|\\mu,\\sigma) $$"
   ]
  },
  {
   "cell_type": "markdown",
   "metadata": {},
   "source": [
    "Something interesting to note here is the $1/N$ weighting on our variance estimator. There is less bias in the estimator of the variance by using the weighting $1/(N-1)$ because one degree of freedom is used in calculating the mean used in the variance calculation. However, in GMM when many moments are used that might have differing degrees of freedom restrictions, it is important to have the same weighting for each moment. So we use $1/N$ in all cases."
   ]
  },
  {
   "cell_type": "code",
   "execution_count": 3,
   "metadata": {},
   "outputs": [],
   "source": [
    "# Download and save the data file Econ381totpts.txt\n",
    "url = ('https://raw.githubusercontent.com/rickecon/Notebooks/' +\n",
    "       'master/GMM/data/Econ381totpts.txt')\n",
    "data_file = requests.get(url, allow_redirects=True)\n",
    "open('data/Econ381totpts.txt', 'wb').write(data_file.content)\n",
    "\n",
    "# Load the data as a NumPy array\n",
    "pts = np.loadtxt('data/Econ381totpts.txt')\n",
    "#pts"
   ]
  },
  {
   "cell_type": "code",
   "execution_count": 4,
   "metadata": {},
   "outputs": [],
   "source": [
    "# Define function that generates values of a normal pdf\n",
    "def trunc_norm_pdf(xvals, mu, sigma, cut_lb, cut_ub):\n",
    "    '''\n",
    "    --------------------------------------------------------------------\n",
    "    Generate pdf values from the normal pdf with mean mu and standard\n",
    "    deviation sigma. If the cutoff is given, then the PDF values are\n",
    "    inflated upward to reflect the zero probability on values above the\n",
    "    cutoff. If there is no cutoff given, this function does the same\n",
    "    thing as sp.stats.norm.pdf(x, loc=mu, scale=sigma).\n",
    "    --------------------------------------------------------------------\n",
    "    INPUTS:\n",
    "    xvals  = (N,) vector, values of the normally distributed random\n",
    "             variable\n",
    "    mu     = scalar, mean of the normally distributed random variable\n",
    "    sigma  = scalar > 0, standard deviation of the normally distributed\n",
    "             random variable\n",
    "    cut_lb = scalar or string, ='None' if no cutoff is given, otherwise\n",
    "             is scalar lower bound value of distribution. Values below\n",
    "             this value have zero probability\n",
    "    cut_ub = scalar or string, ='None' if no cutoff is given, otherwise\n",
    "             is scalar upper bound value of distribution. Values above\n",
    "             this value have zero probability\n",
    "    \n",
    "    OTHER FUNCTIONS AND FILES CALLED BY THIS FUNCTION: None\n",
    "    \n",
    "    OBJECTS CREATED WITHIN FUNCTION:\n",
    "    prob_notcut = scalar \n",
    "    pdf_vals = (N,) vector, normal PDF values for mu and sigma\n",
    "               corresponding to xvals data\n",
    "    \n",
    "    FILES CREATED BY THIS FUNCTION: None\n",
    "    \n",
    "    RETURNS: pdf_vals\n",
    "    --------------------------------------------------------------------\n",
    "    '''\n",
    "    if cut_ub == 'None' and cut_lb == 'None':\n",
    "        prob_notcut = 1.0\n",
    "    elif cut_ub == 'None' and cut_lb != 'None':\n",
    "        prob_notcut = 1.0 - sts.norm.cdf(cut_lb, loc=mu, scale=sigma)\n",
    "    elif cut_ub != 'None' and cut_lb == 'None':\n",
    "        prob_notcut = sts.norm.cdf(cut_ub, loc=mu, scale=sigma)\n",
    "    elif cut_ub != 'None' and cut_lb != 'None':\n",
    "        prob_notcut = (sts.norm.cdf(cut_ub, loc=mu, scale=sigma) -\n",
    "                       sts.norm.cdf(cut_lb, loc=mu, scale=sigma))\n",
    "            \n",
    "    pdf_vals    = ((1/(sigma * np.sqrt(2 * np.pi)) *\n",
    "                    np.exp( - (xvals - mu)**2 / (2 * sigma**2))) /\n",
    "                    prob_notcut)\n",
    "    \n",
    "    return pdf_vals"
   ]
  },
  {
   "cell_type": "markdown",
   "metadata": {},
   "source": [
    "Now let's define a criterion function that takes as inputs the parameters and the estimator for the weighting matrix $\\hat{W}$."
   ]
  },
  {
   "cell_type": "code",
   "execution_count": 5,
   "metadata": {},
   "outputs": [],
   "source": [
    "def data_moments(xvals):\n",
    "    '''\n",
    "    --------------------------------------------------------------------\n",
    "    This function computes the two data moments for GMM\n",
    "    (mean(data), variance(data)).\n",
    "    --------------------------------------------------------------------\n",
    "    INPUTS:\n",
    "    xvals = (N,) vector, test scores data\n",
    "    \n",
    "    OTHER FUNCTIONS AND FILES CALLED BY THIS FUNCTION: None\n",
    "    \n",
    "    OBJECTS CREATED WITHIN FUNCTION:\n",
    "    mean_data = scalar, mean value of test scores data\n",
    "    var_data  = scalar > 0, variance of test scores data\n",
    "    \n",
    "    FILES CREATED BY THIS FUNCTION: None\n",
    "    \n",
    "    RETURNS: mean_data, var_data\n",
    "    --------------------------------------------------------------------\n",
    "    '''\n",
    "    mean_data = xvals.mean()\n",
    "    var_data = xvals.var()\n",
    "    \n",
    "    return mean_data, var_data\n",
    "\n",
    "\n",
    "def model_moments(mu, sigma, cut_lb, cut_ub):\n",
    "    '''\n",
    "    --------------------------------------------------------------------\n",
    "    This function computes the two model moments for GMM\n",
    "    (mean(model data), variance(model data)).\n",
    "    --------------------------------------------------------------------\n",
    "    INPUTS:\n",
    "    mu     = scalar, mean of the normally distributed random variable\n",
    "    sigma  = scalar > 0, standard deviation of the normally distributed\n",
    "             random variable\n",
    "    cut_lb = scalar or string, ='None' if no cutoff is given, otherwise\n",
    "             is scalar lower bound value of distribution. Values below\n",
    "             this value have zero probability\n",
    "    cut_ub = scalar or string, ='None' if no cutoff is given, otherwise\n",
    "             is scalar upper bound value of distribution. Values above\n",
    "             this value have zero probability\n",
    "    \n",
    "    OTHER FUNCTIONS AND FILES CALLED BY THIS FUNCTION:\n",
    "        trunc_norm_pdf()\n",
    "        xfx()\n",
    "        x2fx()\n",
    "    \n",
    "    OBJECTS CREATED WITHIN FUNCTION:\n",
    "    mean_model = scalar, mean value of test scores from model\n",
    "    m_m_err    = scalar > 0, estimated error in the computation of the\n",
    "                 integral for the mean of the distribution\n",
    "    var_model  = scalar > 0, variance of test scores from model\n",
    "    v_m_err    = scalar > 0, estimated error in the computation of the\n",
    "                 integral for the variance of the distribution\n",
    "    \n",
    "    FILES CREATED BY THIS FUNCTION: None\n",
    "    \n",
    "    RETURNS: mean_model, var_model\n",
    "    --------------------------------------------------------------------\n",
    "    '''\n",
    "    xfx = lambda x: x * trunc_norm_pdf(x, mu, sigma, cut_lb, cut_ub)\n",
    "    (mean_model, m_m_err) = intgr.quad(xfx, cut_lb, cut_ub)\n",
    "    x2fx = lambda x: ((x - mean_model) ** 2) * trunc_norm_pdf(x, mu, sigma, cut_lb, cut_ub) \n",
    "    (var_model, v_m_err) = intgr.quad(x2fx, cut_lb, cut_ub)\n",
    "    \n",
    "    return mean_model, var_model\n",
    "\n",
    "\n",
    "def err_vec(xvals, mu, sigma, cut_lb, cut_ub, simple):\n",
    "    '''\n",
    "    --------------------------------------------------------------------\n",
    "    This function computes the vector of moment errors (in percent\n",
    "    deviation from the data moment vector) for GMM.\n",
    "    --------------------------------------------------------------------\n",
    "    INPUTS:\n",
    "    xvals  = (N,) vector, test scores data\n",
    "    mu     = scalar, mean of the normally distributed random variable\n",
    "    sigma  = scalar > 0, standard deviation of the normally distributed\n",
    "             random variable\n",
    "    cut_lb = scalar or string, ='None' if no cutoff is given, otherwise\n",
    "             is scalar lower bound value of distribution. Values below\n",
    "             this value have zero probability\n",
    "    cut_ub = scalar or string, ='None' if no cutoff is given, otherwise\n",
    "             is scalar upper bound value of distribution. Values above\n",
    "             this value have zero probability\n",
    "    simple = boolean, =True if errors are simple difference, =False if\n",
    "             errors are percent deviation from data moments\n",
    "    \n",
    "    OTHER FUNCTIONS AND FILES CALLED BY THIS FUNCTION:\n",
    "        data_moments()\n",
    "        model_moments()\n",
    "    \n",
    "    OBJECTS CREATED WITHIN FUNCTION:\n",
    "    mean_data  = scalar, mean value of data\n",
    "    var_data   = scalar > 0, variance of data\n",
    "    moms_data  = (2, 1) matrix, column vector of two data moments\n",
    "    mean_model = scalar, mean value from model\n",
    "    var_model  = scalar > 0, variance from model\n",
    "    moms_model = (2, 1) matrix, column vector of two model moments\n",
    "    err_vec    = (2, 1) matrix, column vector of two moment error\n",
    "                 functions\n",
    "    \n",
    "    FILES CREATED BY THIS FUNCTION: None\n",
    "    \n",
    "    RETURNS: err_vec\n",
    "    --------------------------------------------------------------------\n",
    "    '''\n",
    "    mean_data, var_data = data_moments(xvals)\n",
    "    moms_data = np.array([[mean_data], [var_data]])\n",
    "    mean_model, var_model = model_moments(mu, sigma, cut_lb, cut_ub)\n",
    "    moms_model = np.array([[mean_model], [var_model]])\n",
    "    if simple:\n",
    "        err_vec = moms_model - moms_data\n",
    "    else:\n",
    "        err_vec = (moms_model - moms_data) / moms_data\n",
    "    \n",
    "    return err_vec\n",
    "\n",
    "\n",
    "def criterion(params, *args):\n",
    "    '''\n",
    "    --------------------------------------------------------------------\n",
    "    This function computes the GMM weighted sum of squared moment errors\n",
    "    criterion function value given parameter values and an estimate of\n",
    "    the weighting matrix.\n",
    "    --------------------------------------------------------------------\n",
    "    INPUTS:\n",
    "    params = (2,) vector, ([mu, sigma])\n",
    "    mu     = scalar, mean of the normally distributed random variable\n",
    "    sigma  = scalar > 0, standard deviation of the normally distributed\n",
    "             random variable\n",
    "    args   = length 3 tuple, (xvals, cutoff, W_hat)\n",
    "    xvals  = (N,) vector, values of the truncated normally distributed\n",
    "             random variable\n",
    "    cut_lb = scalar or string, ='None' if no cutoff is given, otherwise\n",
    "             is scalar lower bound value of distribution. Values below\n",
    "             this value have zero probability\n",
    "    cut_ub = scalar or string, ='None' if no cutoff is given, otherwise\n",
    "             is scalar upper bound value of distribution. Values above\n",
    "             this value have zero probability\n",
    "    W_hat  = (R, R) matrix, estimate of optimal weighting matrix\n",
    "    \n",
    "    OTHER FUNCTIONS AND FILES CALLED BY THIS FUNCTION:\n",
    "        norm_pdf()\n",
    "    \n",
    "    OBJECTS CREATED WITHIN FUNCTION:\n",
    "    err        = (2, 1) matrix, column vector of two moment error\n",
    "                 functions\n",
    "    crit_val   = scalar > 0, GMM criterion function value\n",
    "    \n",
    "    FILES CREATED BY THIS FUNCTION: None\n",
    "    \n",
    "    RETURNS: crit_val\n",
    "    --------------------------------------------------------------------\n",
    "    '''\n",
    "    mu, sigma = params\n",
    "    xvals, cut_lb, cut_ub, W = args\n",
    "    err = err_vec(xvals, mu, sigma, cut_lb, cut_ub, simple=False)\n",
    "    crit_val = err.T @ W @ err\n",
    "    \n",
    "    return crit_val"
   ]
  },
  {
   "cell_type": "markdown",
   "metadata": {},
   "source": [
    "Now we can perform the GMM estimation. Let's start with the identity matrix as our estimate for the optimal weighting matrix $W = I$."
   ]
  },
  {
   "cell_type": "code",
   "execution_count": 6,
   "metadata": {},
   "outputs": [
    {
     "name": "stdout",
     "output_type": "stream",
     "text": [
      "mu_GMM1= 622.0452988041491  sig_GMM1= 198.72061657517943\n"
     ]
    },
    {
     "data": {
      "text/plain": [
       "      fun: array([[2.72172936e-18]])\n",
       " hess_inv: <2x2 LbfgsInvHessProduct with dtype=float64>\n",
       "      jac: array([-2.83640894e-13,  1.10896296e-12])\n",
       "  message: b'CONVERGENCE: REL_REDUCTION_OF_F_<=_FACTR*EPSMCH'\n",
       "     nfev: 87\n",
       "      nit: 19\n",
       "   status: 0\n",
       "  success: True\n",
       "        x: array([622.0452988 , 198.72061658])"
      ]
     },
     "execution_count": 6,
     "metadata": {},
     "output_type": "execute_result"
    }
   ],
   "source": [
    "# Note that this takes a little time because the intgr.quad() commands\n",
    "# are a little slow\n",
    "mu_init = 400\n",
    "sig_init = 60\n",
    "params_init = np.array([mu_init, sig_init])\n",
    "W_hat = np.eye(2)\n",
    "gmm_args = (pts, 0.0, 450.0, W_hat)\n",
    "results = opt.minimize(criterion, params_init, args=(gmm_args), tol=1e-14,\n",
    "                       method='L-BFGS-B', bounds=((1e-10, None), (1e-10, None)))\n",
    "mu_GMM1, sig_GMM1 = results.x\n",
    "print('mu_GMM1=', mu_GMM1, ' sig_GMM1=', sig_GMM1)\n",
    "results"
   ]
  },
  {
   "cell_type": "code",
   "execution_count": 7,
   "metadata": {},
   "outputs": [
    {
     "name": "stdout",
     "output_type": "stream",
     "text": [
      "Mean of points = 341.90869565217395 , Variance of points = 7827.997292398056\n",
      "Mean of model = 341.9086950983246 , Variance of model = 7827.99728995083\n",
      "Error vector= [-1.61987504e-09 -3.12624737e-10]\n"
     ]
    },
    {
     "data": {
      "text/plain": [
       "      fun: array([[2.72172936e-18]])\n",
       " hess_inv: <2x2 LbfgsInvHessProduct with dtype=float64>\n",
       "      jac: array([-2.83640894e-13,  1.10896296e-12])\n",
       "  message: b'CONVERGENCE: REL_REDUCTION_OF_F_<=_FACTR*EPSMCH'\n",
       "     nfev: 87\n",
       "      nit: 19\n",
       "   status: 0\n",
       "  success: True\n",
       "        x: array([622.0452988 , 198.72061658])"
      ]
     },
     "execution_count": 7,
     "metadata": {},
     "output_type": "execute_result"
    }
   ],
   "source": [
    "mean_data, var_data = data_moments(pts)\n",
    "mean_model, var_model = model_moments(mu_GMM1, sig_GMM1, 0.0, 450.0)\n",
    "err1 = err_vec(pts, mu_GMM1, sig_GMM1, 0.0, 450.0, False).reshape(2,)\n",
    "print('Mean of points =', mean_data, ', Variance of points =', var_data)\n",
    "print('Mean of model =', mean_model, ', Variance of model =', var_model)\n",
    "print('Error vector=', err1)\n",
    "results"
   ]
  },
  {
   "cell_type": "markdown",
   "metadata": {},
   "source": [
    "Let's plot the PDF implied by these results against the histogram."
   ]
  },
  {
   "cell_type": "code",
   "execution_count": 8,
   "metadata": {},
   "outputs": [
    {
     "data": {
      "text/plain": [
       "<matplotlib.legend.Legend at 0x19f764f7780>"
      ]
     },
     "execution_count": 8,
     "metadata": {},
     "output_type": "execute_result"
    },
    {
     "data": {
      "image/png": "[encoded data removed]",
      "text/plain": [
       "<matplotlib.figure.Figure at 0x19f763ac668>"
      ]
     },
     "metadata": {},
     "output_type": "display_data"
    }
   ],
   "source": [
    "# Plot the histogram of the data\n",
    "num_bins = 30\n",
    "count, bins, ignored = plt.hist(pts, num_bins, density=True,\n",
    "                                edgecolor='k')\n",
    "plt.title('Econ 381 scores: 2011-2012', fontsize=20)\n",
    "plt.xlabel(r'Total points')\n",
    "plt.ylabel(r'Percent of scores')\n",
    "plt.xlim([0, 550])  # This gives the xmin and xmax to be plotted\"\n",
    "\n",
    "# Plot the estimated GMM PDF\n",
    "dist_pts = np.linspace(0, 450, 500)\n",
    "plt.plot(dist_pts, trunc_norm_pdf(dist_pts, mu_GMM1, sig_GMM1, 0.0, 450),\n",
    "         linewidth=2, color='k', label='1: $\\mu_{GMM1}$,$\\sigma_{GMM1}$')\n",
    "plt.legend(loc='upper left')"
   ]
  },
  {
   "cell_type": "markdown",
   "metadata": {},
   "source": [
    "That looks just like the ML estimate from the previous notebook. Let's see what the criterion function looks like for different values of $\\mu$ and $\\sigma$."
   ]
  },
  {
   "cell_type": "code",
   "execution_count": 9,
   "metadata": {},
   "outputs": [
    {
     "data": {
      "text/plain": [
       "Text(0.5,0,'Crit. func.')"
      ]
     },
     "execution_count": 9,
     "metadata": {},
     "output_type": "execute_result"
    },
    {
     "data": {
      "image/png": "[encoded data removed]",
      "text/plain": [
       "<matplotlib.figure.Figure at 0x19f766091d0>"
      ]
     },
     "metadata": {},
     "output_type": "display_data"
    }
   ],
   "source": [
    "# Note that this will take a few minutes because the intgr.quad() commands\n",
    "# are a little slow\n",
    "mu_vals = np.linspace(60, 700, 50)\n",
    "sig_vals = np.linspace(20, 200, 50)\n",
    "# mu_vals = np.linspace(540, 572, 50)\n",
    "# sig_vals = np.linspace(170, 182, 50)\n",
    "crit_vals = np.zeros((50, 50))\n",
    "for mu_ind in range(50):\n",
    "    for sig_ind in range(50):\n",
    "        crit_vals[mu_ind, sig_ind] = \\\n",
    "            criterion(np.array([mu_vals[mu_ind], sig_vals[sig_ind]]),\n",
    "                      pts, 0.0, 450.0, W_hat)\n",
    "\n",
    "mu_mesh, sig_mesh = np.meshgrid(mu_vals, sig_vals)\n",
    "\n",
    "fig = plt.figure()\n",
    "ax = fig.gca(projection='3d')\n",
    "ax.plot_surface(sig_mesh, mu_mesh, crit_vals, rstride=8,\n",
    "                cstride=1, cmap=cmap1)\n",
    "ax.set_title('Criterion function for values of mu and sigma')\n",
    "ax.set_xlabel(r'$\\sigma$')\n",
    "ax.set_ylabel(r'$\\mu$')\n",
    "ax.set_zlabel(r'Crit. func.')"
   ]
  },
  {
   "cell_type": "markdown",
   "metadata": {},
   "source": [
    "Let's compute the GMM estimator for the variance-covariance matrix $\\hat{\\Sigma}_{GMM}$ of our GMM estimates $\\hat{\\theta}_{GMM}$ using the equation in Section 4 based on the Jacobian $d(x|\\hat{\\theta}_{GMM})$ of the moment error vector $e(x|\\hat{\\theta}_{GMM})$ from the criterion function at the estimated (optimal) parameter values $\\hat{\\theta}_{GMM}$. We first write a function that computes the Jacobian $d(x|\\hat{\\theta}_{GMM})$."
   ]
  },
  {
   "cell_type": "code",
   "execution_count": 10,
   "metadata": {},
   "outputs": [],
   "source": [
    "def Jac_err2(xvals, mu, sigma, cut_lb, cut_ub, simple=False):\n",
    "    '''\n",
    "    This function computes the Jacobian matrix of partial derivatives of the R x 1 moment\n",
    "    error vector e(x|theta) with respect to the K parameters theta_i in the K x 1 parameter vector\n",
    "    theta. The resulting matrix is R x K Jacobian.\n",
    "    '''\n",
    "    Jac_err = np.zeros((2, 2))\n",
    "    h_mu = 1e-8 * mu\n",
    "    h_sig = 1e-8 * sigma\n",
    "    Jac_err[:, 0] = \\\n",
    "        ((err_vec(xvals, mu + h_mu, sigma, cut_lb, cut_ub, simple) -\n",
    "          err_vec(xvals, mu - h_mu, sigma, cut_lb, cut_ub, simple)) / (2 * h_mu)).flatten()\n",
    "    Jac_err[:, 1] = \\\n",
    "        ((err_vec(xvals, mu, sigma + h_sig, cut_lb, cut_ub, simple) -\n",
    "          err_vec(xvals, mu, sigma - h_sig, cut_lb, cut_ub, simple)) / (2 * h_sig)).flatten()\n",
    "    \n",
    "    return Jac_err"
   ]
  },
  {
   "cell_type": "code",
   "execution_count": 12,
   "metadata": {},
   "outputs": [
    {
     "name": "stdout",
     "output_type": "stream",
     "text": [
      "[[ 0.00057977 -0.00191677]\n",
      " [-0.00244916  0.00973172]]\n",
      "[[1. 0.]\n",
      " [0. 1.]]\n",
      "[[680417.20142295 172529.96776147]\n",
      " [172529.96776147  43810.69060986]]\n",
      "Std. err. mu_hat= 824.8740518545542\n",
      "Std. err. sig_hat= 209.31003466117548\n"
     ]
    }
   ],
   "source": [
    "N = pts.shape[0]\n",
    "d_err2 = Jac_err2(pts, mu_GMM1, sig_GMM1, 0.0, 450.0, False)\n",
    "print(d_err2)\n",
    "print(W_hat)\n",
    "SigHat2 = (1 / N) * lin.inv(d_err2.T @ W_hat @ d_err2)\n",
    "print(SigHat2)\n",
    "print('Std. err. mu_hat=', np.sqrt(SigHat2[0, 0]))\n",
    "print('Std. err. sig_hat=', np.sqrt(SigHat2[1, 1]))"
   ]
  },
  {
   "cell_type": "markdown",
   "metadata": {},
   "source": [
    "#### 5.1.2. Two moments, two-step optimal weighting matrix\n",
    "Similar to the ML problem, it looks like the criterion function is roughly equal for a specific portion increase of $\\mu$ and $\\sigma$ together. That is, with these two moments probably have a correspondence of values of $\\mu$ and $\\sigma$ that give roughly the same criterion function value. This issue has two possible solutions.\n",
    "\n",
    "1. Maybe we need the two-step variance covariance estimator to calculate a \"more\" optimal weighting matrix $W$.\n",
    "2. Maybe our two moments aren't very good moments for fitting the data.\n",
    "\n",
    "Let's first try the two-step weighting matrix."
   ]
  },
  {
   "cell_type": "code",
   "execution_count": 13,
   "metadata": {},
   "outputs": [],
   "source": [
    "def get_Err_mat2(pts, mu, sigma, cut_lb, cut_ub, simple=False):\n",
    "    '''\n",
    "    --------------------------------------------------------------------\n",
    "    This function computes the R x N matrix of errors from each\n",
    "    observation for each moment. In this function, we have hard coded\n",
    "    R = 2.\n",
    "    --------------------------------------------------------------------\n",
    "    INPUTS:\n",
    "    xvals  = (N,) vector, test scores data\n",
    "    mu     = scalar, mean of the normally distributed random variable\n",
    "    sigma  = scalar > 0, standard deviation of the normally distributed\n",
    "             random variable\n",
    "    cut_lb = scalar or string, ='None' if no cutoff is given, otherwise\n",
    "             is scalar lower bound value of distribution. Values below\n",
    "             this value have zero probability\n",
    "    cut_ub = scalar or string, ='None' if no cutoff is given, otherwise\n",
    "             is scalar upper bound value of distribution. Values above\n",
    "             this value have zero probability\n",
    "    simple = boolean, =True if errors are simple difference, =False if\n",
    "             errors are percent deviation from data moments\n",
    "    \n",
    "    OTHER FUNCTIONS AND FILES CALLED BY THIS FUNCTION:\n",
    "        model_moments()\n",
    "    \n",
    "    OBJECTS CREATED WITHIN FUNCTION:\n",
    "    R          = integer = 2, hard coded number of moments\n",
    "    N          = integer >= R, number of data observations\n",
    "    Err_mat    = (R, N) matrix, error by moment and observation data\n",
    "    mean_model = scalar, mean value from model\n",
    "    var_model  = scalar > 0, variance from model\n",
    "    \n",
    "    FILES CREATED BY THIS FUNCTION: None\n",
    "    \n",
    "    RETURNS: Err_mat\n",
    "    --------------------------------------------------------------------\n",
    "    '''\n",
    "    R = 2\n",
    "    N = len(pts)\n",
    "    Err_mat = np.zeros((R, N))\n",
    "    mean_model, var_model = model_moments(mu, sigma, cut_lb, cut_ub)\n",
    "    if simple:\n",
    "        Err_mat[0, :] = pts - mean_model\n",
    "        Err_mat[1, :] = ((mean_data - pts) ** 2) - var_model\n",
    "    else:\n",
    "        Err_mat[0, :] = (pts - mean_model) / mean_model\n",
    "        Err_mat[1, :] = (((mean_data - pts) ** 2) - var_model) / var_model\n",
    "    \n",
    "    return Err_mat"
   ]
  },
  {
   "cell_type": "code",
   "execution_count": 14,
   "metadata": {},
   "outputs": [
    {
     "name": "stdout",
     "output_type": "stream",
     "text": [
      "[[ 0.0669623  -0.43803414]\n",
      " [-0.43803414  4.78818521]]\n",
      "[[37.18863472  3.40210144]\n",
      " [ 3.40210144  0.52007942]]\n"
     ]
    }
   ],
   "source": [
    "Err_mat = get_Err_mat2(pts, mu_GMM1, sig_GMM1, 0.0, 450.0, False)\n",
    "VCV2 = (1 / pts.shape[0]) * (Err_mat @ Err_mat.T)\n",
    "print(VCV2)\n",
    "W_hat2 = lin.inv(VCV2)\n",
    "print(W_hat2)"
   ]
  },
  {
   "cell_type": "code",
   "execution_count": 15,
   "metadata": {},
   "outputs": [
    {
     "name": "stdout",
     "output_type": "stream",
     "text": [
      "mu_GMM2= 622.0452988041491  sig_GMM2= 198.72061657517943\n"
     ]
    }
   ],
   "source": [
    "# Note that this takes a little time because the intgr.quad() commands\n",
    "# are a little slow\n",
    "mu_init = 400\n",
    "sig_init = 60\n",
    "params_init = np.array([mu_GMM1, sig_GMM1])\n",
    "# W_hat3 = np.array([[1. / VCV2[0, 0], 0.], [0., 1. / VCV2[1, 1]]])\n",
    "gmm_args = (pts, 0.0, 450.0, W_hat2)\n",
    "results = opt.minimize(criterion, params_init, args=(gmm_args),\n",
    "                       method='L-BFGS-B', bounds=((1e-10, None), (1e-10, None)))\n",
    "mu_GMM2, sig_GMM2 = results.x\n",
    "print('mu_GMM2=', mu_GMM2, ' sig_GMM2=', sig_GMM2)"
   ]
  },
  {
   "cell_type": "markdown",
   "metadata": {},
   "source": [
    "Look at how much smaller (more efficient) the estimated standard errors are in this case with the two-step optimal weighting matrix $\\hat{W}_{2step}$."
   ]
  },
  {
   "cell_type": "code",
   "execution_count": 16,
   "metadata": {},
   "outputs": [
    {
     "name": "stdout",
     "output_type": "stream",
     "text": [
      "[[ 0.00057977 -0.00191677]\n",
      " [-0.00244916  0.00973172]]\n",
      "[[37.18863472  3.40210144]\n",
      " [ 3.40210144  0.52007942]]\n",
      "[[52507.04292256 16524.55737324]\n",
      " [16524.55737324  5305.80202246]]\n",
      "Std. err. mu_hat= 229.14415314941579\n",
      "Std. err. sig_hat= 72.84093644686406\n"
     ]
    }
   ],
   "source": [
    "d_err2_2 = Jac_err2(pts, mu_GMM2, sig_GMM2, 0.0, 450.0, False)\n",
    "print(d_err2_2)\n",
    "print(W_hat2)\n",
    "SigHat2_2 = (1 / N) * lin.inv(d_err2.T @ W_hat2 @ d_err2)\n",
    "print(SigHat2_2)\n",
    "print('Std. err. mu_hat=', np.sqrt(SigHat2_2[0, 0]))\n",
    "print('Std. err. sig_hat=', np.sqrt(SigHat2_2[1, 1]))"
   ]
  },
  {
   "cell_type": "markdown",
   "metadata": {},
   "source": [
    "#### 5.1.3. Four moments, identity weighting matrix\n",
    "Using a better weighting matrix didn't improve our estimates or fit very much it did improve the standard errors of our estimates. To get the right fit, we might need to choose different moments. Let's try an overidentified model $K<R$, where we estimate $\\mu$ and $\\sigma$ of the truncated normal distribution $K=2$ using the following four moments $R=4$.\n",
    "\n",
    "1. The percent of observations greater than 430 (between 430 and 450)\n",
    "2. The percent of observations between 320 and 430\n",
    "3. The percent of observations between 220 and 320\n",
    "4. The percent of observations less than 220 (between 0 and 220)"
   ]
  },
  {
   "cell_type": "code",
   "execution_count": 17,
   "metadata": {},
   "outputs": [],
   "source": [
    "def data_moments4(xvals):\n",
    "    '''\n",
    "    --------------------------------------------------------------------\n",
    "    This function computes the four data moments for GMM\n",
    "    (binpct_1, binpct_2, binpct_3, binpct_4).\n",
    "    --------------------------------------------------------------------\n",
    "    INPUTS:\n",
    "    xvals = (N,) vector, test scores data\n",
    "\n",
    "    OTHER FUNCTIONS AND FILES CALLED BY THIS FUNCTION: None\n",
    "\n",
    "    OBJECTS CREATED WITHIN FUNCTION:\n",
    "    bpct_1_dat = scalar in [0, 1], percent of observations\n",
    "                 0 <= x < 220\n",
    "    bpct_2_dat = scalar in [0, 1], percent of observations\n",
    "                 220 <= x < 320\n",
    "    bpct_3_dat = scalar in [0, 1], percent of observations\n",
    "                 320 <= x < 430\n",
    "    bpct_4_dat = scalar in [0, 1], percent of observations\n",
    "                 430 <= x <= 450\n",
    "\n",
    "    FILES CREATED BY THIS FUNCTION: None\n",
    "\n",
    "    RETURNS: bpct_1, bpct_2, bpct_3, bpct_4\n",
    "    --------------------------------------------------------------------\n",
    "    '''\n",
    "    bpct_1_dat = xvals[xvals < 220].shape[0] / xvals.shape[0]\n",
    "    bpct_2_dat = (xvals[(xvals >=220) & (xvals < 320)].shape[0] /\n",
    "                  xvals.shape[0])\n",
    "    bpct_3_dat = (xvals[(xvals >=320) & (xvals < 430)].shape[0] /\n",
    "                  xvals.shape[0])\n",
    "    bpct_4_dat = xvals[xvals >= 430].shape[0] / xvals.shape[0]\n",
    "\n",
    "    return bpct_1_dat, bpct_2_dat, bpct_3_dat, bpct_4_dat\n",
    "\n",
    "\n",
    "def model_moments4(mu, sigma, cut_lb, cut_ub):\n",
    "    '''\n",
    "    --------------------------------------------------------------------\n",
    "    This function computes the four model moments for GMM\n",
    "    (binpct_1, binpct_2, binpct_3, binpct_4).\n",
    "    --------------------------------------------------------------------\n",
    "    INPUTS:\n",
    "    mu     = scalar, mean of the normally distributed random variable\n",
    "    sigma  = scalar > 0, standard deviation of the normally distributed\n",
    "             random variable\n",
    "    cut_lb = scalar or string, ='None' if no cutoff is given, otherwise\n",
    "             is scalar lower bound value of distribution. Values below\n",
    "             this value have zero probability\n",
    "    cut_ub = scalar or string, ='None' if no cutoff is given, otherwise\n",
    "             is scalar upper bound value of distribution. Values above\n",
    "             this value have zero probability\n",
    "    \n",
    "    OTHER FUNCTIONS AND FILES CALLED BY THIS FUNCTION:\n",
    "        trunc_norm_pdf()\n",
    "        xfx()\n",
    "    \n",
    "    OBJECTS CREATED WITHIN FUNCTION:\n",
    "    bpct_1_mod = scalar in [0, 1], percent of model observations in\n",
    "                 bin 1\n",
    "    bp_1_err   = scalar > 0, estimated error in the computation of the\n",
    "                 integral for bpct_1_mod\n",
    "    bpct_2_mod = scalar in [0, 1], percent of model observations in\n",
    "                 bin 2\n",
    "    bp_2_err   = scalar > 0, estimated error in the computation of the\n",
    "                 integral for bpct_2_mod\n",
    "    bpct_3_mod = scalar in [0, 1], percent of model observations in\n",
    "                 bin 3\n",
    "    bp_3_err   = scalar > 0, estimated error in the computation of the\n",
    "                 integral for bpct_3_mod\n",
    "    bpct_4_mod = scalar in [0, 1], percent of model observations in\n",
    "                 bin 4\n",
    "    bp_4_err   = scalar > 0, estimated error in the computation of the\n",
    "                 integral for bpct_4_mod\n",
    "    \n",
    "    FILES CREATED BY THIS FUNCTION: None\n",
    "    \n",
    "    RETURNS: bpct_1_mod, bpct_2_mod, bpct_3_mod, bpct_4_mod\n",
    "    --------------------------------------------------------------------\n",
    "    '''\n",
    "    xfx = lambda x: trunc_norm_pdf(x, mu, sigma, cut_lb, cut_ub)\n",
    "    (bpct_1_mod, bp_1_err) = intgr.quad(xfx, 0.0, 220)\n",
    "    (bpct_2_mod, bp_2_err) = intgr.quad(xfx, 220, 320)\n",
    "    (bpct_3_mod, bp_3_err) = intgr.quad(xfx, 320, 430)\n",
    "    (bpct_4_mod, bp_4_err) = intgr.quad(xfx, 430, 450)\n",
    "    \n",
    "    return bpct_1_mod, bpct_2_mod, bpct_3_mod, bpct_4_mod\n",
    "\n",
    "\n",
    "def err_vec4(xvals, mu, sigma, cut_lb, cut_ub, simple):\n",
    "    '''\n",
    "    --------------------------------------------------------------------\n",
    "    This function computes the vector of moment errors (in percent\n",
    "    deviation from the data moment vector) for GMM.\n",
    "    --------------------------------------------------------------------\n",
    "    INPUTS:\n",
    "    xvals  = (N,) vector, test scores data\n",
    "    mu     = scalar, mean of the normally distributed random variable\n",
    "    sigma  = scalar > 0, standard deviation of the normally distributed\n",
    "             random variable\n",
    "    cut_lb = scalar or string, ='None' if no cutoff is given, otherwise\n",
    "             is scalar lower bound value of distribution. Values below\n",
    "             this value have zero probability\n",
    "    cut_ub = scalar or string, ='None' if no cutoff is given, otherwise\n",
    "             is scalar upper bound value of distribution. Values above\n",
    "             this value have zero probability\n",
    "    simple = boolean, =True if errors are simple difference, =False if\n",
    "             errors are percent deviation from data moments\n",
    "    \n",
    "    OTHER FUNCTIONS AND FILES CALLED BY THIS FUNCTION:\n",
    "        data_moments4()\n",
    "        model_moments4()\n",
    "    \n",
    "    OBJECTS CREATED WITHIN FUNCTION:\n",
    "    mean_data  = scalar, mean value of data\n",
    "    var_data   = scalar > 0, variance of data\n",
    "    moms_data  = (2, 1) matrix, column vector of two data moments\n",
    "    mean_model = scalar, mean value from model\n",
    "    var_model  = scalar > 0, variance from model\n",
    "    moms_model = (2, 1) matrix, column vector of two model moments\n",
    "    err_vec    = (2, 1) matrix, column vector of two moment error\n",
    "                 functions\n",
    "    \n",
    "    FILES CREATED BY THIS FUNCTION: None\n",
    "    \n",
    "    RETURNS: err_vec\n",
    "    --------------------------------------------------------------------\n",
    "    '''\n",
    "    bpct_1_dat, bpct_2_dat, bpct_3_dat, bpct_4_dat = \\\n",
    "        data_moments4(xvals)\n",
    "    moms_data = np.array([[bpct_1_dat], [bpct_2_dat], [bpct_3_dat],\n",
    "                          [bpct_4_dat]])\n",
    "    bpct_1_mod, bpct_2_mod, bpct_3_mod, bpct_4_mod = \\\n",
    "        model_moments4(mu, sigma, cut_lb, cut_ub)\n",
    "    moms_model = np.array([[bpct_1_mod], [bpct_2_mod], [bpct_3_mod],\n",
    "                          [bpct_4_mod]])\n",
    "    if simple:\n",
    "        err_vec = moms_model - moms_data\n",
    "    else:\n",
    "        err_vec = (moms_model - moms_data) / moms_data\n",
    "    \n",
    "    return err_vec\n",
    "\n",
    "\n",
    "def criterion4(params, *args):\n",
    "    '''\n",
    "    --------------------------------------------------------------------\n",
    "    This function computes the GMM weighted sum of squared moment errors\n",
    "    criterion function value given parameter values and an estimate of\n",
    "    the weighting matrix.\n",
    "    --------------------------------------------------------------------\n",
    "    INPUTS:\n",
    "    params = (2,) vector, ([mu, sigma])\n",
    "    mu     = scalar, mean of the normally distributed random variable\n",
    "    sigma  = scalar > 0, standard deviation of the normally distributed\n",
    "             random variable\n",
    "    args   = length 3 tuple, (xvals, cutoff, W_hat)\n",
    "    xvals  = (N,) vector, values of the truncated normally distributed\n",
    "             random variable\n",
    "    cut_lb = scalar or string, ='None' if no cutoff is given, otherwise\n",
    "             is scalar lower bound value of distribution. Values below\n",
    "             this value have zero probability\n",
    "    cut_ub = scalar or string, ='None' if no cutoff is given, otherwise\n",
    "             is scalar upper bound value of distribution. Values above\n",
    "             this value have zero probability\n",
    "    W_hat  = (R, R) matrix, estimate of optimal weighting matrix\n",
    "    \n",
    "    OTHER FUNCTIONS AND FILES CALLED BY THIS FUNCTION:\n",
    "        err_vec4()\n",
    "    \n",
    "    OBJECTS CREATED WITHIN FUNCTION:\n",
    "    err        = (4, 1) matrix, column vector of four moment error\n",
    "                 functions\n",
    "    crit_val   = scalar > 0, GMM criterion function value\n",
    "    \n",
    "    FILES CREATED BY THIS FUNCTION: None\n",
    "    \n",
    "    RETURNS: crit_val\n",
    "    --------------------------------------------------------------------\n",
    "    '''\n",
    "    mu, sigma = params\n",
    "    xvals, cut_lb, cut_ub, W = args\n",
    "    err = err_vec4(xvals, mu, sigma, cut_lb, cut_ub, simple=False)\n",
    "    crit_val = err.T @ W @ err \n",
    "    \n",
    "    return crit_val"
   ]
  },
  {
   "cell_type": "markdown",
   "metadata": {},
   "source": [
    "Let's see what the model moments would be relative to the data moments with the first GMM estimates $mu\\approx 620$ and $\\sigma\\approx 198$ from the previous 2-moment estimation. Let's also look at the resulting criterion function at those values."
   ]
  },
  {
   "cell_type": "code",
   "execution_count": 18,
   "metadata": {},
   "outputs": [
    {
     "name": "stdout",
     "output_type": "stream",
     "text": [
      "params= [622.0452988  198.72061658]\n",
      "(0.08695652173913043, 0.17391304347826086, 0.6894409937888198, 0.049689440993788817)\n",
      "(0.10733213608242584, 0.22206800778380842, 0.5334651290380459, 0.13713472709571994)\n",
      "[[3.2797808]]\n"
     ]
    }
   ],
   "source": [
    "params = np.array([mu_GMM1, sig_GMM1])\n",
    "print('params=', params)\n",
    "print(data_moments4(pts))\n",
    "print(model_moments4(mu_GMM1, sig_GMM1, 0.0, 450))\n",
    "print(criterion4(params, pts, 0.0, 450.0, np.eye(4)))"
   ]
  },
  {
   "cell_type": "code",
   "execution_count": 19,
   "metadata": {},
   "outputs": [
    {
     "name": "stdout",
     "output_type": "stream",
     "text": [
      "mu_GMM1_4= 361.6494689388704  sig_GMM1_4= 92.13254038161713\n"
     ]
    }
   ],
   "source": [
    "# Note that this takes a little time because the intgr.quad() commands\n",
    "# are a little slow\n",
    "mu_init = 400\n",
    "sig_init = 70\n",
    "params_init = np.array([mu_init, sig_init])\n",
    "W_hat1_4 = np.eye(4)\n",
    "gmm_args = (pts, 0.0, 450.0, W_hat1_4)\n",
    "results_4 = opt.minimize(criterion4, params_init, args=(gmm_args),\n",
    "                       method='L-BFGS-B', bounds=((1e-10, None), (1e-10, None)))\n",
    "mu_GMM1_4, sig_GMM1_4 = results_4.x\n",
    "print('mu_GMM1_4=', mu_GMM1_4, ' sig_GMM1_4=', sig_GMM1_4)"
   ]
  },
  {
   "cell_type": "code",
   "execution_count": 20,
   "metadata": {},
   "outputs": [
    {
     "name": "stdout",
     "output_type": "stream",
     "text": [
      "params= [361.64946894  92.13254038]\n",
      "(0.08695652173913043, 0.17391304347826086, 0.6894409937888198, 0.049689440993788817)\n",
      "(0.07465171186754409, 0.31705091961512427, 0.5357598490888902, 0.07253751942844154)\n",
      "[[0.95854287]]\n"
     ]
    }
   ],
   "source": [
    "params = np.array([mu_GMM1_4, sig_GMM1_4])\n",
    "print('params=', params)\n",
    "print(data_moments4(pts))\n",
    "print(model_moments4(mu_GMM1_4, sig_GMM1_4, 0.0, 450))\n",
    "print(criterion4(params, pts, 0.0, 450.0, W_hat1_4))"
   ]
  },
  {
   "cell_type": "code",
   "execution_count": 21,
   "metadata": {},
   "outputs": [
    {
     "name": "stdout",
     "output_type": "stream",
     "text": [
      "params= [361.64946894  92.13254038]\n",
      "(0.08695652173913043, 0.17391304347826086, 0.6894409937888198, 0.049689440993788817)\n",
      "(0.1089225634640606, 0.3397222410921531, 0.4882514503673091, 0.06310374507647715)\n",
      "[[1.13082483]]\n"
     ]
    }
   ],
   "source": [
    "params2 = np.array([350, 98])\n",
    "print('params=', params)\n",
    "print(data_moments4(pts))\n",
    "print(model_moments4(350, 98, 0.0, 450))\n",
    "print(criterion4(params2, pts, 0.0, 450.0, W_hat1_4))"
   ]
  },
  {
   "cell_type": "code",
   "execution_count": 22,
   "metadata": {},
   "outputs": [
    {
     "data": {
      "text/plain": [
       "<matplotlib.legend.Legend at 0x19f77ddf4a8>"
      ]
     },
     "execution_count": 22,
     "metadata": {},
     "output_type": "execute_result"
    },
    {
     "data": {
      "image/png": "[encoded data removed]",
      "text/plain": [
       "<matplotlib.figure.Figure at 0x19f778c9860>"
      ]
     },
     "metadata": {},
     "output_type": "display_data"
    }
   ],
   "source": [
    "# Plot the histogram of the data\n",
    "count, bins, ignored = plt.hist(pts, num_bins, density=True,\n",
    "                                edgecolor='k')\n",
    "plt.title('Econ 381 scores: 2011-2012', fontsize=20)\n",
    "plt.xlabel(r'Total points')\n",
    "plt.ylabel(r'Percent of scores')\n",
    "plt.xlim([0, 550])  # This gives the xmin and xmax to be plotted\"\n",
    "\n",
    "# Plot the estimated GMM PDF\n",
    "dist_pts = np.linspace(0, 450, 500)\n",
    "plt.plot(dist_pts, trunc_norm_pdf(dist_pts, mu_GMM1_4, sig_GMM1_4, 0.0, 450),\n",
    "         linewidth=2, color='k', label='1: $\\mu_{GMM1}$,$\\sigma_{GMM1}$')\n",
    "\n",
    "# Plot the estimated GMM PDF\n",
    "dist_pts = np.linspace(0, 450, 500)\n",
    "plt.plot(dist_pts, trunc_norm_pdf(dist_pts, 400, 70, 0.0, 450),\n",
    "         linewidth=2, color='g', label='1: $\\mu=400$,$\\sigma=70$')\n",
    "plt.legend(loc='upper left')"
   ]
  },
  {
   "cell_type": "markdown",
   "metadata": {},
   "source": [
    "We can compute the estimator of the variance-covariance matrix $\\hat{\\Sigma}$ of the GMM parameter estimator by computing the Jacobian of the error vector. In this case, the Jacobian $d(x|\\theta)$ is $R\\times K = 4\\times 2$."
   ]
  },
  {
   "cell_type": "code",
   "execution_count": 23,
   "metadata": {},
   "outputs": [],
   "source": [
    "def Jac_err4(xvals, mu, sigma, cut_lb, cut_ub, simple=False):\n",
    "    '''\n",
    "    This function computes the Jacobian matrix of partial derivatives of the R x 1 moment\n",
    "    error vector e(x|theta) with respect to the K parameters theta_i in the K x 1 parameter vector\n",
    "    theta. The resulting matrix is R x K Jacobian.\n",
    "    '''\n",
    "    Jac_err = np.zeros((4, 2))\n",
    "    h_mu = 1e-8 * mu\n",
    "    h_sig = 1e-8 * sigma\n",
    "    Jac_err[:, 0] = \\\n",
    "        ((err_vec4(xvals, mu + h_mu, sigma, cut_lb, cut_ub, simple) -\n",
    "          err_vec4(xvals, mu - h_mu, sigma, cut_lb, cut_ub, simple)) / (2 * h_mu)).flatten()\n",
    "    Jac_err[:, 1] = \\\n",
    "        ((err_vec4(xvals, mu, sigma + h_sig, cut_lb, cut_ub, simple) -\n",
    "          err_vec4(xvals, mu, sigma - h_sig, cut_lb, cut_ub, simple)) / (2 * h_sig)).flatten()\n",
    "    \n",
    "    return Jac_err"
   ]
  },
  {
   "cell_type": "code",
   "execution_count": 24,
   "metadata": {},
   "outputs": [
    {
     "name": "stdout",
     "output_type": "stream",
     "text": [
      "[[-0.01552584  0.03086035]\n",
      " [-0.01186597  0.00386864]\n",
      " [ 0.00363825 -0.00488294]\n",
      " [ 0.01822033  0.0002049 ]]\n",
      "[[1. 0. 0. 0.]\n",
      " [0. 1. 0. 0.]\n",
      " [0. 0. 1. 0.]\n",
      " [0. 0. 0. 1.]]\n",
      "[[14.31485249  7.78512019]\n",
      " [ 7.78512019 10.50017408]]\n",
      "Std. err. mu_hat= 3.783497388766814\n",
      "Std. err. sigma_hat= 3.2403972095067894\n"
     ]
    }
   ],
   "source": [
    "d_err4 = Jac_err4(pts, mu_GMM1_4, sig_GMM1_4, 0.0, 450.0, False)\n",
    "print(d_err4)\n",
    "print(W_hat1_4)\n",
    "SigHat4 = (1 / N) * lin.inv(d_err4.T @ W_hat1_4 @ d_err4)\n",
    "print(SigHat4)\n",
    "print('Std. err. mu_hat=', np.sqrt(SigHat4[0, 0]))\n",
    "print('Std. err. sigma_hat=', np.sqrt(SigHat4[1, 1]))"
   ]
  },
  {
   "cell_type": "markdown",
   "metadata": {},
   "source": [
    "Note how much tighter the standard errors are here with these four moments than they were in the econometric models of Sections 5.1.1 and 5.1.2 with two moments."
   ]
  },
  {
   "cell_type": "markdown",
   "metadata": {},
   "source": [
    "#### 5.1.4. Four moments, two-step optimal weighting matrix\n",
    "Let's see how much things change if we use the two-step estimator for the optimal weighting matrix $W$ instead of the identity matrix."
   ]
  },
  {
   "cell_type": "code",
   "execution_count": 25,
   "metadata": {},
   "outputs": [],
   "source": [
    "def get_Err_mat4(pts, mu, sigma, cut_lb, cut_ub, simple=False):\n",
    "    '''\n",
    "    --------------------------------------------------------------------\n",
    "    This function computes the R x N matrix of errors from each\n",
    "    observation for each moment. In this function, we have hard coded\n",
    "    R = 4.\n",
    "    --------------------------------------------------------------------\n",
    "    INPUTS:\n",
    "    xvals  = (N,) vector, test scores data\n",
    "    mu     = scalar, mean of the normally distributed random variable\n",
    "    sigma  = scalar > 0, standard deviation of the normally distributed\n",
    "             random variable\n",
    "    cut_lb = scalar or string, ='None' if no cutoff is given, otherwise\n",
    "             is scalar lower bound value of distribution. Values below\n",
    "             this value have zero probability\n",
    "    cut_ub = scalar or string, ='None' if no cutoff is given, otherwise\n",
    "             is scalar upper bound value of distribution. Values above\n",
    "             this value have zero probability\n",
    "    simple = boolean, =True if errors are simple difference, =False if\n",
    "             errors are percent deviation from data moments\n",
    "    \n",
    "    OTHER FUNCTIONS AND FILES CALLED BY THIS FUNCTION:\n",
    "        model_moments()\n",
    "    \n",
    "    OBJECTS CREATED WITHIN FUNCTION:\n",
    "    R          = 2, hard coded number of moments\n",
    "    N          = integer >= R, number of data observations\n",
    "    Err_mat    = (R, N) matrix, error by moment and observation data\n",
    "    mean_model = scalar, mean value from model\n",
    "    var_model  = scalar > 0, variance from model\n",
    "    \n",
    "    FILES CREATED BY THIS FUNCTION: None\n",
    "    \n",
    "    RETURNS: Err_mat\n",
    "    --------------------------------------------------------------------\n",
    "    '''\n",
    "    R = 4\n",
    "    N = len(pts)\n",
    "    Err_mat = np.zeros((R, N))\n",
    "    pct_1_mod, pct_2_mod, pct_3_mod, pct_4_mod = \\\n",
    "        model_moments4(mu, sigma, cut_lb, cut_ub)\n",
    "    if simple:\n",
    "        pts_in_grp1 = pts < 220\n",
    "        Err_mat[0, :] = pts_in_grp1 - pct_1_mod\n",
    "        pts_in_grp2 = (pts >= 220) & (pts < 320)\n",
    "        Err_mat[1, :] = pts_in_grp2 - pct_2_mod\n",
    "        pts_in_grp3 = (pts >= 320) & (pts < 430)\n",
    "        Err_mat[2, :] = pts_in_grp3 - pct_3_mod\n",
    "        pts_in_grp4 = pts >= 430\n",
    "        Err_mat[3, :] = pts_in_grp4 - pct_4_mod\n",
    "    else:\n",
    "        pts_in_grp1 = pts < 220\n",
    "        Err_mat[0, :] = (pts_in_grp1 - pct_1_mod) / pct_1_mod\n",
    "        pts_in_grp2 = (pts >= 220) & (pts < 320)\n",
    "        Err_mat[1, :] = (pts_in_grp2 - pct_2_mod) / pct_2_mod\n",
    "        pts_in_grp3 = (pts >= 320) & (pts < 430)\n",
    "        Err_mat[2, :] = (pts_in_grp3 - pct_3_mod) / pct_3_mod\n",
    "        pts_in_grp4 = pts >= 430\n",
    "        Err_mat[3, :] = (pts_in_grp4 - pct_4_mod) / pct_4_mod\n",
    "    \n",
    "    return Err_mat"
   ]
  },
  {
   "cell_type": "code",
   "execution_count": 26,
   "metadata": {},
   "outputs": [
    {
     "name": "stdout",
     "output_type": "stream",
     "text": [
      "[[ 0.07954649 -0.01688416 -0.05806037 -0.00460196]\n",
      " [-0.01688416  0.16415575 -0.14190037 -0.00537122]\n",
      " [-0.05806037 -0.14190037  0.23773    -0.03776926]\n",
      " [-0.00460196 -0.00537122 -0.03776926  0.04774244]]\n",
      "[[ 8.05829929 -1.69675697 -0.95525957 -5.40628276]\n",
      " [-1.69675697  4.99912881  0.85711946 -4.1594913 ]\n",
      " [-0.95525957  0.85711946  2.97594092 -2.87780081]\n",
      " [-5.40628276 -4.1594913  -2.87780081 12.44357487]]\n"
     ]
    }
   ],
   "source": [
    "Err_mat4 = get_Err_mat4(pts, mu_GMM1_4, sig_GMM1_4, 0.0, 450.0, True)\n",
    "VCV2_4 = (1 / pts.shape[0]) * (Err_mat4 @ Err_mat4.T)\n",
    "print(VCV2_4)\n",
    "# We use the pseudo-inverse command here because the VCV matrix is poorly conditioned\n",
    "W_hat2_4 = lin.pinv(VCV2_4)\n",
    "print(W_hat2_4)"
   ]
  },
  {
   "cell_type": "code",
   "execution_count": 27,
   "metadata": {},
   "outputs": [
    {
     "name": "stdout",
     "output_type": "stream",
     "text": [
      "mu_GMM2_4= 363.9707657849358  sig_GMM2_4= 111.22641554205023\n"
     ]
    },
    {
     "data": {
      "text/plain": [
       "      fun: array([[1.92826663]])\n",
       " hess_inv: <2x2 LbfgsInvHessProduct with dtype=float64>\n",
       "      jac: array([-8.77076189e-06,  8.94839758e-06])\n",
       "  message: b'CONVERGENCE: NORM_OF_PROJECTED_GRADIENT_<=_PGTOL'\n",
       "     nfev: 27\n",
       "      nit: 8\n",
       "   status: 0\n",
       "  success: True\n",
       "        x: array([363.97076578, 111.22641554])"
      ]
     },
     "execution_count": 27,
     "metadata": {},
     "output_type": "execute_result"
    }
   ],
   "source": [
    "# Note that this takes a little time because the intgr.quad() commands\n",
    "# are a little slow\n",
    "mu_init = 600\n",
    "sig_init = 196\n",
    "params_init = np.array([mu_GMM1_4, sig_GMM1_4])\n",
    "gmm_args = (pts, 0.0, 450.0, W_hat2_4)\n",
    "results2_4 = opt.minimize(criterion4, params_init, args=(gmm_args),\n",
    "                          method='L-BFGS-B', bounds=((1e-10, None), (1e-10, None)))\n",
    "mu_GMM2_4, sig_GMM2_4 = results2_4.x\n",
    "print('mu_GMM2_4=', mu_GMM2_4, ' sig_GMM2_4=', sig_GMM2_4)\n",
    "results2_4"
   ]
  },
  {
   "cell_type": "markdown",
   "metadata": {},
   "source": [
    "In this case, the two-step estimator of the optimal weighting matrix creates a small change in the estimated $\\mu$ and $\\sigma$ paramters to $(\\mu=364,\\sigma=111)$ from $(\\mu=362,\\sigma=92)$ in the identity matrix estimation. The criterion function for different values of $\\mu$ and $\\sigma$ here has a clear minimum in a certain area. But it also has some really interesting nonlinearities."
   ]
  },
  {
   "cell_type": "code",
   "execution_count": 28,
   "metadata": {},
   "outputs": [
    {
     "data": {
      "text/plain": [
       "Text(0.5,0,'Crit. func.')"
      ]
     },
     "execution_count": 28,
     "metadata": {},
     "output_type": "execute_result"
    },
    {
     "data": {
      "image/png": "[encoded data removed]",
      "text/plain": [
       "<matplotlib.figure.Figure at 0x19f778ca630>"
      ]
     },
     "metadata": {},
     "output_type": "display_data"
    }
   ],
   "source": [
    "# Note that this will take a few minutes because the intgr.quad() commands\n",
    "# are a little slow\n",
    "# mu_vals = np.linspace(355, 370, 50)\n",
    "# sig_vals = np.linspace(85, 120, 50)\n",
    "mu_vals = np.linspace(60, 700, 50)\n",
    "sig_vals = np.linspace(20, 200, 50)\n",
    "crit_vals4 = np.zeros((50, 50))\n",
    "for mu_ind in range(50):\n",
    "    for sig_ind in range(50):\n",
    "        crit_vals4[mu_ind, sig_ind] = \\\n",
    "            criterion4(np.array([mu_vals[mu_ind], sig_vals[sig_ind]]),\n",
    "                       pts, 0.0, 450.0, W_hat2_4)\n",
    "\n",
    "mu_mesh, sig_mesh = np.meshgrid(mu_vals, sig_vals)\n",
    "\n",
    "fig = plt.figure()\n",
    "ax = fig.gca(projection='3d')\n",
    "ax.plot_surface(sig_mesh, mu_mesh, crit_vals4, rstride=8,\n",
    "                cstride=1, cmap=cmap1)\n",
    "ax.set_title('Criterion function for values of mu and sigma')\n",
    "ax.set_xlabel(r'$\\sigma$')\n",
    "ax.set_ylabel(r'$\\mu$')\n",
    "ax.set_zlabel(r'Crit. func.')"
   ]
  },
  {
   "cell_type": "markdown",
   "metadata": {},
   "source": [
    "We can compute the estimator of the variance-covariance matrix $\\hat{\\Sigma}$ of the GMM parameter estimator by computing the Jacobian of the error vector."
   ]
  },
  {
   "cell_type": "code",
   "execution_count": 29,
   "metadata": {},
   "outputs": [
    {
     "name": "stdout",
     "output_type": "stream",
     "text": [
      "[[-0.01777748  0.03268934]\n",
      " [-0.00680569 -0.00017871]\n",
      " [ 0.00295438 -0.00385843]\n",
      " [ 0.0139385  -0.00304518]]\n",
      "[[ 8.05829929 -1.69675697 -0.95525957 -5.40628276]\n",
      " [-1.69675697  4.99912881  0.85711946 -4.1594913 ]\n",
      " [-0.95525957  0.85711946  2.97594092 -2.87780081]\n",
      " [-5.40628276 -4.1594913  -2.87780081 12.44357487]]\n",
      "[[2.73365457 2.08455221]\n",
      " [2.08455221 2.20840306]]\n",
      "Std. err. mu_hat= 1.6533767170544442\n",
      "Std. err. sigma_hat= 1.4860696674574594\n"
     ]
    }
   ],
   "source": [
    "d_err4_2 = Jac_err4(pts, mu_GMM2_4, sig_GMM2_4, 0.0, 450.0, False)\n",
    "print(d_err4_2)\n",
    "print(W_hat2_4)\n",
    "SigHat4_2 = (1 / N) * lin.inv(d_err4_2.T @ W_hat2_4 @ d_err4_2)\n",
    "print(SigHat4_2)\n",
    "print('Std. err. mu_hat=', np.sqrt(SigHat4_2[0, 0]))\n",
    "print('Std. err. sigma_hat=', np.sqrt(SigHat4_2[1, 1]))"
   ]
  },
  {
   "cell_type": "markdown",
   "metadata": {},
   "source": [
    "Note how much smaller (more efficient) the estimated standard errors are in this case with the two-step optimal weighting matrix $\\hat{W}_{2step}$: $(1.65, 1.49)$ versus $(3.78, 3.24)$."
   ]
  },
  {
   "cell_type": "markdown",
   "metadata": {},
   "source": [
    "### 5.2. Unconditional and conditional expectations, instruments, and moments\n",
    "Most standard treatments of the generalized method of moments estimator in econometrics textbooks start with this principle and this selection of moments. However, this notebook follows the progression of starting with the most general treatment of GMM and then covering these special cases.\n",
    "\n",
    "In stochastic models, the assumed data generating process might have one or more characterizing equations that involve an unconditional expectation. The unconditional expectation is a strong assumption with many implications on conditional expectations that can create moments for identifying parameters using GMM. In econometric models, these unconditional expectations often show up as an assumption on the error term of one or more of the equations. Note that this is a minimal assumption and does not require knowledge of the distribution of the error term.\n",
    "\n",
    "$$ y_i = \\beta_0 + \\beta_1 x_{1,i} + \\beta_2 x_{2,i} + \\varepsilon_i \\quad\\text{where}\\quad E\\left[\\varepsilon_i\\right] = 0 $$\n",
    "\n",
    "In a macroeconomic model like the Brock and Mirman (1972) model, unconditional expectations show up in two places. The first is in the Euler equation, which is the first equation below. And the second is on the error term in the law of motion for the productivity shock, which is the last equation below.\n",
    "\n",
    "$$ \\quad\\left(c_t\\right)^{-1} = \\beta E\\left[r_{t+1}\\left(c_{t+1}\\right)^{-1}\\right] $$\n",
    "$$ c_t + k_{t+1} = r_{t+1}k_t + w_t $$\n",
    "$$ \\quad w_t = (1 - \\alpha)e^{z_t}k_{t}^\\alpha $$\n",
    "$$ r_t = \\alpha e^{z_t}k_{t}^{\\alpha-1} $$\n",
    "$$ \\qquad\\qquad\\qquad\\qquad\\qquad\\qquad z_{t} = \\rho z_{t-1} + (1 - \\rho)\\mu + \\varepsilon_t \\quad\\text{where}\\quad E[\\varepsilon_t]=0 $$\n",
    "\n",
    "It is valuable to note first that these unconditional expectations imply minimal restrictions on the stochastic distributions in the model. They only imply a restriction on the first moments of those particular parts of the distributions. Furthermore, because they are unconditional distributions (which is a strong assumption), they also imply restrictions on conditional distributions."
   ]
  },
  {
   "cell_type": "markdown",
   "metadata": {},
   "source": [
    "Let $\\mathcal{I}$ be the set of variables that are in the information set of the model at the time the expectations operator in the model is formed. Let $w\\in\\mathcal{I}$ be the typical element (variable) in the information set. In a cross sectional econometric model, the variables in the information set are $w\\in\\mathcal{I}$ that could possibly be related to the dependent variable $y$ and were determined at the time the expectation was formed. In dynamic models or time series models, variables in the information set include any variables that were determined on or before the period in which the expectation was formed.\n",
    "\n",
    "The following sequence shows how an unconditional expectation can lead to moments that can identify parameters.\n",
    "\n",
    "$$ E[x] = 0 \\Rightarrow E[x|\\mathcal{I}] = 0 \\Rightarrow Cov[x,w] = 0 \\Rightarrow E[xw] = 0 $$\n",
    "\n",
    "The first equation states that the unconditional expectation of $x$ is zero. This implies that the conditional expectation of $x$ given anything else in the information set is also zero. This, in turn, implies that the covariance of $x$ and any element $w$ of the information set is zero so that the expectation of $x$ times $w$ is zero. It is this last equation that generates many of the moments used to identify parameters in GMM. Any variable in the instrument set $w\\in\\mathcal{I}$ can generate a moment condition."
   ]
  },
  {
   "cell_type": "markdown",
   "metadata": {},
   "source": [
    "#### 5.2.1. Econometric (linear regression) GMM example using unconditional expectation for moments\n",
    "In the econometric model example above, there are three parameters to be estimated $(\\beta_0, \\beta_1, \\beta_2)$. We need at least three independent moments to identify these parameters. The first moment we can use is the assumption that the unconditional expectation of the error terms is zero. This has an empirical counterpart that the sample mean of the error terms should be zero.\n",
    "\n",
    "$$ \\text{(Theoretical moment 1)}\\quad E[\\varepsilon_i] = 0 \\quad\\Rightarrow\\quad E\\left[y_i - \\beta_0 - \\beta_1 x_{1,i} - \\beta_2 x_{2,i}\\right]=0 $$\n",
    "$$ \\text{(Empirical moment 1)}\\qquad\\qquad\\qquad\\:\\:\\: \\frac{1}{N}\\sum_{i=1}^N\\left[y_i - \\beta_0 - \\beta_1 x_{1,i} - \\beta_2 x_{2,i}\\right]=0 $$\n",
    "\n",
    "The next two moments are formed from the implications that the unconditional expectation on the errors implies that the expected value of the product of the error and any other variable in the information set is also zero.\n",
    "\n",
    "$$ \\text{(Theoretical moment 2)}\\quad E[\\varepsilon_i x_{1,i}] = 0 \\quad\\Rightarrow\\quad E\\Bigl[\\left(y_i - \\beta_0 - \\beta_1 x_{1,i} - \\beta_2 x_{2,i}\\right)x_{1,i}\\Bigr]=0 $$\n",
    "$$ \\text{(Empirical moment 2)}\\qquad\\qquad\\qquad\\qquad \\frac{1}{N}\\sum_{i=1}^N\\Bigl[\\left(y_i - \\beta_0 - \\beta_1 x_{1,i} - \\beta_2 x_{2,i}\\right)x_{1,i}\\Bigr]=0 $$\n",
    "\n",
    "$$ \\text{(Theoretical moment 3)}\\quad E[\\varepsilon_i x_{2,i}] = 0 \\quad\\Rightarrow\\quad E\\Bigl[\\left(y_i - \\beta_0 - \\beta_1 x_{1,i} - \\beta_2 x_{2,i}\\right)x_{2,i}\\Bigr]=0 $$\n",
    "$$ \\text{(Empirical moment 3)}\\qquad\\qquad\\qquad\\qquad \\frac{1}{N}\\sum_{i=1}^N\\Bigl[\\left(y_i - \\beta_0 - \\beta_1 x_{1,i} - \\beta_2 x_{2,i}\\right)x_{2,i}\\Bigr]=0 $$"
   ]
  },
  {
   "cell_type": "markdown",
   "metadata": {},
   "source": [
    "#### 5.2.2. Brock and Mirman (1972) estimation by GMM using unconditional expectations for moments\n",
    "Give Brock and Mirman (1972) example. This is currently a problem set.\n",
    "\n",
    "Cite Hansen and Singleton (1982) example."
   ]
  },
  {
   "cell_type": "markdown",
   "metadata": {},
   "source": [
    "## 6. Identification\n",
    "An issue that we saw in the examples from Section 5 is that there is some science as well as some art in choosing moments to identify the parameters in a GMM estimation.\n",
    "\n",
    "* The $\\mu$ and $\\sigma$ parameters were identified more precisely when using the two-step estimator of the optimal weighting matrix instead of the identity matrix.\n",
    "* The overidentified four-moment model of total scores produced much smaller standard errors for both $\\mu$ and $\\sigma$ than did the two-moment model.\n",
    "\n",
    "Suppose the parameter vector $\\theta$ has $K$ elements, or rather, $K$ parameters to be estimated. In order to estimate $\\theta$ by GMM, you must have at least as many moments as parameters to estimate $R\\geq K$. If you have exactly as many moments as parameters to be estimated $R=K$, the model is said to be *exactly identified*. If you have more moments than parameters to be estimated $R>K$, the model is said to be *overidentified*. If you have fewer moments than parameters to be estimated $R<K$, the model is said to be *underidentified*. There are good reasons to overidentify $R>K$ the model in GMM estimation as we saw in the previous example. The main reason is that not all moments are orthogonal. That is, some moments convey roughly the same information about the data and, therefore, do not separately identify any extra parameters. So a good GMM model often is overidentified $R>K$.\n",
    "\n",
    "One last point about GMM regards moment selection and verification of results. The real world has an infinite supply of potential moments that describe some part of the data. Choosing moments to estimate parameters by GMM requires understanding of the model, intuition about its connections to the real world, and artistry. A good GMM estimation will include moments that have some relation to or story about their connection to particular parameters of the model to be estimated. In addition, a good verification of a GMM estimation is to take some moment from the data that was not used in the estimation and see how well the corresponding moment from the estimated model matches that *outside moment*."
   ]
  },
  {
   "cell_type": "markdown",
   "metadata": {},
   "source": [
    "## 7. Linear regression by GMM and relation to OLS\n",
    "The most common method of estimating the parameters of a linear regression is using the ordinary least squares (OLS) estimator. This estimator is just special type of generalized method of moments (GMM) estimator. A simple regression specification in which the dependent variable $y_i$ is a linear function of two independent variables $x_{1,i}$ and $x_{2,i}$ is the following:\n",
    "\n",
    "$$ y_i = \\beta_0 + \\beta_1 x_{1,i} + \\beta_2 x_{2,i} + \\varepsilon_i \\quad\\text{where}\\quad \\varepsilon_i\\sim N\\left(0,\\sigma^2\\right) $$\n",
    "\n",
    "Note that we can solve for the parameters $(\\beta_0,\\beta_1,\\beta_2)$ in a number of ways. And we can do it without making any assumptions about the distribution of the error terms $\\varepsilon_i$.\n",
    "\n",
    "One way we might choose the parameters is to choose $(\\beta_0,\\beta_1,\\beta_2)$ to minimize the distance between the $N$ observations of $y_i$ and the $N$ predicted values for $y_i$ given by $\\beta_0 + \\beta_1 x_{1,i} + \\beta_2 x_{2,i}$. You can think of the $N$ observations of $y_i$ as $N$ data moments. And you can think of the $N$ observations of $\\beta_0 + \\beta_1 x_{1,i} + \\beta_2 x_{2,i}$ as $N$ model moments. The least squares estimator minimizes the sum of squared errors, which is the sum of squared deviations between the $N$ values of $y_i$ and  $\\beta_0 + \\beta_1 x_{1,i} + \\beta_2 x_{2,i}$.\n",
    "\n",
    "$$ \\varepsilon_i = y_i - \\beta_0 - \\beta_1 x_{1,i} - \\beta_2 x_{2,i} $$\n",
    "\n",
    "$$ \\hat{\\theta}_{OLS} = \\theta:\\quad \\min_{\\theta} \\varepsilon^T\\, I \\, \\varepsilon $$\n",
    "\n",
    "Let the $N\\times 1$ vector of $y_i$'s be $Y$. Let the $N\\times 3$ vector of data $(1, x_{1,i}, x_{2,i})$ be $X$. And let the vector of three parameters $(\\beta_0, \\beta_1, \\beta_2)$ be $\\beta$. It can be shown that the OLS estimator for the vector of parameters $\\beta$ is the following.\n",
    "\n",
    "$$ \\hat{\\beta}_{OLS} = (X^T X)^{-1}(X^T Y) $$\n",
    "\n",
    "But you could also just estimate the coefficients using the criterion function in the GMM statement of the problem above. This method is called nonlinear least squares or generalized least squares. Many applications of regression use a weighting matrix in the criterion function that adjusts for issues like heteroskedasticity and autocorrelation. \n",
    "\n",
    "Lastly, many applications use a different distance metric than the weighted sum of squared errors for the difference in moments. Sum of squared errors puts a large penalty on big differences. Sometimes you might want to maximize the sum of absolute errors, which is sometimes called median regression. You could also minimize the maximum absolute difference in the errors, which is even more extreme than the sum of squared errors on penalizing large differences."
   ]
  },
  {
   "cell_type": "markdown",
   "metadata": {},
   "source": [
    "## 8. References\n",
    "* Adda, Jerome and Russell Cooper, *Dynamic Economics: Quantitative Methods and Applications*, MIT Press (2003).\n",
    "* Brock, William A. and Leonard J. Mirman, \"Optimal Economic Growth and Uncertainty: The Discounted Case,\" *Journal of Economic Theory*, 4:3, pp. 479-513 (June 1972).\n",
    "* Davidson, Russell and James G. MacKinnon, *Econometric Theory and Methods*, Oxford University Press (2004).\n",
    "* Fuhrer, Jeffrey C., George R. Moore, and Scott D. Schuh, \"Estimating the Linear-quadratic Inventory Model: Maximum Likelihood versus Generalized Method of Moments,\" *Journal of Monetary Economics*, 35:1, pp. 115-157 (February 1995).\n",
    "* Hansen, Lars Peter, \"Large Sample Properties of Generalized Method of Moments Estimators,\" *Econometrica*, 50:4, pp. 1029-1054 (July 1982).\n",
    "* Hansen, Lars Peter and Kenneth J. Singleton, \"Generalized Instrumental Variables Estimation of Nonlinear Rational Expectations Models\", *Econometrica*, 50:5, pp. 1269-1286 (September 1982).\n",
    "* Newey, Whitney K. and Kenneth D. West, \"A Simple, Positive, Semi-definite, Heteroskedasticy and Autocorrelation Consistent Covariance Matrix,\" *Econometrica*, 55:3, pp. 703-708 (May 1987)."
   ]
  }
 ],
 "metadata": {
  "anaconda-cloud": {},
  "kernelspec": {
   "display_name": "Python 3",
   "language": "python",
   "name": "python3"
  },
  "language_info": {
   "codemirror_mode": {
    "name": "ipython",
    "version": 3
   },
   "file_extension": ".py",
   "mimetype": "text/x-python",
   "name": "python",
   "nbconvert_exporter": "python",
   "pygments_lexer": "ipython3",
   "version": "3.6.4"
  }
 },
 "nbformat": 4,
 "nbformat_minor": 1
}
